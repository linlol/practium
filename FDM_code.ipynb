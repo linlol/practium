{
  "nbformat": 4,
  "nbformat_minor": 0,
  "metadata": {
    "kernelspec": {
      "display_name": "Python 3",
      "language": "python",
      "name": "python3"
    },
    "language_info": {
      "codemirror_mode": {
        "name": "ipython",
        "version": 3
      },
      "file_extension": ".py",
      "mimetype": "text/x-python",
      "name": "python",
      "nbconvert_exporter": "python",
      "pygments_lexer": "ipython3",
      "version": "3.6.5"
    },
    "colab": {
      "name": "FDM_code.ipynb",
      "version": "0.3.2",
      "provenance": [],
      "collapsed_sections": [],
      "include_colab_link": true
    }
  },
  "cells": [
    {
      "cell_type": "markdown",
      "metadata": {
        "id": "view-in-github",
        "colab_type": "text"
      },
      "source": [
        "<a href=\"https://colab.research.google.com/github/linlol/practium/blob/master/FDM_code.ipynb\" target=\"_parent\"><img src=\"https://colab.research.google.com/assets/colab-badge.svg\" alt=\"Open In Colab\"/></a>"
      ]
    },
    {
      "cell_type": "markdown",
      "metadata": {
        "id": "fad98DFvV3H2",
        "colab_type": "text"
      },
      "source": [
        "##### the solution of the problem provided\n",
        "##### explanation would be provided\n",
        "##### made by Ziyuan Lin\n",
        "##### 2019-09-14"
      ]
    },
    {
      "cell_type": "code",
      "metadata": {
        "id": "fNHFBaH8V3H3",
        "colab_type": "code",
        "colab": {}
      },
      "source": [
        "#some dependence\n",
        "#but I found that I did not use these at all after I finish my work\n",
        "import numpy as np\n",
        "import math"
      ],
      "execution_count": 0,
      "outputs": []
    },
    {
      "cell_type": "code",
      "metadata": {
        "id": "W84dlyqyV3H7",
        "colab_type": "code",
        "colab": {}
      },
      "source": [
        "odd_list=[1,3,5,7,9]"
      ],
      "execution_count": 0,
      "outputs": []
    },
    {
      "cell_type": "code",
      "metadata": {
        "id": "spVJOrNNV3H_",
        "colab_type": "code",
        "colab": {
          "base_uri": "https://localhost:8080/",
          "height": 35
        },
        "outputId": "e8fcc0aa-70f4-48fa-be59-5b177cd0d8b4"
      },
      "source": [
        "#example to show if end is not STRICTLY LARGER than start\n",
        "b=solution(130,130)"
      ],
      "execution_count": 5,
      "outputs": [
        {
          "output_type": "stream",
          "text": [
            "error: end must be strictly larger than start\n"
          ],
          "name": "stdout"
        }
      ]
    },
    {
      "cell_type": "code",
      "metadata": {
        "id": "4AiA6RxAV3IF",
        "colab_type": "code",
        "colab": {}
      },
      "source": [
        "#treat it as a OOP exercise as I did not write OOP-based code for awhile, except PyTorch Neural net code\n",
        "class solution(object):\n",
        "    def __init__(self,start,end):\n",
        "        #start, end referred to the start/ finish range\n",
        "        #candidate nocodio number MUST BE STRICTLY SMALLER/LARGER THAN THE RANGE\n",
        "        #example: if start=100,end =157,then 157 would not be considered as a nice fit even if it is an nocodio number indeed\n",
        "        if end<=start:\n",
        "            #end must be strictly larger than start\n",
        "            self.end=None\n",
        "            self.start=None\n",
        "            print(\"error: end must be strictly larger than start\")\n",
        "        else:\n",
        "            self.end=end\n",
        "            self.start=start\n",
        "    def smallest(self):\n",
        "        #find the smallest nocodio number which is larger than start\n",
        "        start_temp=str(self.start+1)\n",
        "        end_temp=str(self.end)\n",
        "        #in this case no nocodio\n",
        "        ans_list=[0]*len(start_temp)\n",
        "        itr=0\n",
        "        while itr<=len(start_temp)-1:\n",
        "            #num_temp stores the smallest odd which is larger than the digit start[itr]\n",
        "            num_temp=1\n",
        "            for num in odd_list:\n",
        "                if num>=int(start_temp[itr]):\n",
        "                    num_temp=num\n",
        "                    break\n",
        "            if itr==0:\n",
        "                #the very first digit, the highest number digit of the answer\n",
        "                ans_list[itr]=num_temp\n",
        "            elif itr>0:\n",
        "                if ans_list[itr-1]>int(start_temp[itr-1]):\n",
        "                    #in this case, for example, smaller region is 2999999, thus the highest digit of ans is 3\n",
        "                    #so we just print 333333333 case\n",
        "                    for i in range(itr,len(ans_list)):\n",
        "                        ans_list[i]=ans_list[itr-1]\n",
        "                    break\n",
        "                elif ans_list[itr-1]==int(start_temp[itr-1]):\n",
        "                    #in this case, last digit coincides\n",
        "                    #thus, we must use the value num_temp\n",
        "                    #also, we cannot break here\n",
        "                    ans_list[itr]=max(ans_list[itr-1],num_temp)\n",
        "            itr+=1\n",
        "        ans=0\n",
        "        for it,jt in enumerate(ans_list):\n",
        "            ans+=jt*pow(10,len(ans_list)-it-1)\n",
        "        if ans<self.end:\n",
        "            return ans\n",
        "        else: \n",
        "            #no valid answer in this case\n",
        "            #print(\"no such an number\")\n",
        "            return None\n",
        "    def largest(self):\n",
        "      temp=largest_counter(self.start,self.end)\n",
        "      return temp[0]\n",
        "    def counter(self):\n",
        "      temp=largest_counter(self.start,self.end)\n",
        "      return temp[1]\n",
        "      \n",
        "   \n",
        "# it is easier to write the largest searcher and counter outside the class\n",
        "#also, it is easier to combine this\n",
        "#the key idea is iterative, given a (start, end), figure out the latest nocodio number noc(start), count\n",
        "#do it iteratively, check the (noc(start),end) pair, and (noc(noc(start)),end) pair               \n",
        "def largest_counter(low,high):\n",
        "    #return a 2-d list, which is [largest_nocodio_number_in_the_range, number of nocodio]\n",
        "    temp=solution(low,high)\n",
        "    if not temp.smallest():\n",
        "        #if no such a number, the highest value is initially set up as a str \"fail\"\n",
        "        return [\"fail\",0]\n",
        "    count=0\n",
        "    while temp.smallest() is not None and temp.smallest()<=high:\n",
        "        #print(count)\n",
        "        #print(temp.start)\n",
        "        count+=1\n",
        "        temp=solution(temp.smallest(),high)\n",
        "    return [temp.start,count]\n",
        "\n",
        "    \n",
        "        "
      ],
      "execution_count": 0,
      "outputs": []
    },
    {
      "cell_type": "code",
      "metadata": {
        "id": "DTkqknszamwN",
        "colab_type": "code",
        "colab": {}
      },
      "source": [
        "#example\n",
        "\n",
        "a=solution(100,1000)"
      ],
      "execution_count": 0,
      "outputs": []
    },
    {
      "cell_type": "code",
      "metadata": {
        "id": "RVW34uqvaqju",
        "colab_type": "code",
        "colab": {
          "base_uri": "https://localhost:8080/",
          "height": 35
        },
        "outputId": "11ccc5d1-8c7b-44b0-d95b-1330bd4a12b7"
      },
      "source": [
        "a.smallest()"
      ],
      "execution_count": 20,
      "outputs": [
        {
          "output_type": "execute_result",
          "data": {
            "text/plain": [
              "111"
            ]
          },
          "metadata": {
            "tags": []
          },
          "execution_count": 20
        }
      ]
    },
    {
      "cell_type": "code",
      "metadata": {
        "id": "prF10tyPauS0",
        "colab_type": "code",
        "colab": {
          "base_uri": "https://localhost:8080/",
          "height": 35
        },
        "outputId": "537a1ac2-3228-458f-9727-d84a8edad5cf"
      },
      "source": [
        "a.largest()"
      ],
      "execution_count": 28,
      "outputs": [
        {
          "output_type": "execute_result",
          "data": {
            "text/plain": [
              "999"
            ]
          },
          "metadata": {
            "tags": []
          },
          "execution_count": 28
        }
      ]
    },
    {
      "cell_type": "code",
      "metadata": {
        "id": "6V0_CDmObSaw",
        "colab_type": "code",
        "colab": {
          "base_uri": "https://localhost:8080/",
          "height": 35
        },
        "outputId": "ae9d61d9-fce4-4952-d367-85995e3bfe4d"
      },
      "source": [
        "a.counter()"
      ],
      "execution_count": 29,
      "outputs": [
        {
          "output_type": "execute_result",
          "data": {
            "text/plain": [
              "35"
            ]
          },
          "metadata": {
            "tags": []
          },
          "execution_count": 29
        }
      ]
    }
  ]
}