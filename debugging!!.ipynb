{
 "cells": [
  {
   "cell_type": "code",
   "execution_count": 1,
   "metadata": {
    "ExecuteTime": {
     "end_time": "2018-10-15T01:08:16.329526Z",
     "start_time": "2018-10-15T01:08:13.986966Z"
    }
   },
   "outputs": [],
   "source": [
    "import pandas as pd\n",
    "import numpy as np\n",
    "from numpy import cumsum, log, polyfit, sqrt, std, subtract\n",
    "from numpy.random import randn\n",
    "\n",
    "#import matplotlib.pyplot as plt                                                                                                                                              c\n",
    "import matplotlib.pyplot as plt\n",
    "import statsmodels.tsa.stattools as ts\n",
    "from statsmodels.graphics.tsaplots import plot_acf\n",
    "from johansen import Johansen\n",
    "import itertools\n",
    "\n",
    "import datetime as dt\n",
    "\n",
    "#%matplotlib inline\n",
    "plt.style.use('ggplot')"
   ]
  },
  {
   "cell_type": "code",
   "execution_count": 2,
   "metadata": {},
   "outputs": [],
   "source": [
    "min_perday=1380"
   ]
  },
  {
   "cell_type": "markdown",
   "metadata": {},
   "source": [
    "# Data"
   ]
  },
  {
   "cell_type": "code",
   "execution_count": 3,
   "metadata": {},
   "outputs": [],
   "source": [
    "#import os\n",
    "#os.chdir(\"/Users/yuanliu/Box/2018 Fall RCM/1min_data_full_day\")\n",
    "import os\n",
    "os.chdir('C:\\\\Users\\\\lin\\\\OneDrive\\\\practium\\\\23_hour')"
   ]
  },
  {
   "cell_type": "code",
   "execution_count": 4,
   "metadata": {
    "ExecuteTime": {
     "end_time": "2018-10-15T01:08:16.763304Z",
     "start_time": "2018-10-15T01:08:16.369719Z"
    }
   },
   "outputs": [],
   "source": [
    "#               UTB,       TB,        U10y,      10y,       5y,        2y\n",
    "bonds =        ['UB',      'ZB',      'TN',       'ZN',     'ZF',      'ZT']\n",
    "tick_sizes =   [0.03125,   0.03125,   0.015625,   0.015625, 0.0078125, 0.0078125]\n",
    "point_values = [1000,      1000,      1000,       1000,     1000,      2000]\n",
    "maturities = ['8H']\n",
    "maturities_ss = ['H8'] # strategy_studio convention\n",
    "file_suffix = '.pik'\n",
    "series_suffix = '_mid'\n",
    "contract_srt = '2017-12-01'\n",
    "contract_end = '2018-02-28'\n",
    "\n",
    "#dont forget set up file path lul\n",
    "\n",
    "\n",
    "#data_path = '../Data/'+str(mins_per_day)+'/'\n",
    "#data_path = '../Data/'\n",
    "\n",
    "assets = [''.join(x) for x in itertools.product(bonds,maturities)]\n",
    "\n",
    "dfs = []\n",
    "for a in assets:\n",
    "    dfs.append(pd.read_pickle(a+file_suffix)[a+series_suffix])\n",
    "df = pd.concat(dfs, axis=1)\n",
    "\n",
    "# match different periods\n",
    "df = df.dropna()\n",
    "    \n",
    "# ignore the first and last few days\n",
    "#df = df.iloc[390*start_ignore:-390*end_engore]\n",
    "    \n",
    "# ignore the beginning and end of contract\n",
    "df['shifted_trading_time'] = df.index.tz_convert('Etc/GMT-2')\n",
    "df = df[(df['shifted_trading_time'] >= contract_srt) & (df['shifted_trading_time'] < contract_end)]\n",
    "\n",
    "# drop weekends\n",
    "df = df[df['shifted_trading_time'].dt.weekday<5]   \n",
    "df = df.drop('shifted_trading_time',axis=1)\n",
    "\n",
    "#** for strategy studio\n",
    "assets = [''.join(x) for x in itertools.product(bonds,maturities_ss)]\n",
    "\n",
    "# name columns\n",
    "df.columns = assets"
   ]
  },
  {
   "cell_type": "code",
   "execution_count": 5,
   "metadata": {},
   "outputs": [
    {
     "ename": "KeyError",
     "evalue": "'the label [2018-08-29 17:00:00] is not in the [index]'",
     "output_type": "error",
     "traceback": [
      "\u001b[1;31m---------------------------------------------------------------------------\u001b[0m",
      "\u001b[1;31mKeyError\u001b[0m                                  Traceback (most recent call last)",
      "\u001b[1;32mc:\\users\\lin\\python\\lib\\site-packages\\pandas\\core\\indexing.py\u001b[0m in \u001b[0;36m_validate_key\u001b[1;34m(self, key, axis)\u001b[0m\n\u001b[0;32m   1789\u001b[0m                 \u001b[1;32mif\u001b[0m \u001b[1;32mnot\u001b[0m \u001b[0max\u001b[0m\u001b[1;33m.\u001b[0m\u001b[0mcontains\u001b[0m\u001b[1;33m(\u001b[0m\u001b[0mkey\u001b[0m\u001b[1;33m)\u001b[0m\u001b[1;33m:\u001b[0m\u001b[1;33m\u001b[0m\u001b[0m\n\u001b[1;32m-> 1790\u001b[1;33m                     \u001b[0merror\u001b[0m\u001b[1;33m(\u001b[0m\u001b[1;33m)\u001b[0m\u001b[1;33m\u001b[0m\u001b[0m\n\u001b[0m\u001b[0;32m   1791\u001b[0m             \u001b[1;32mexcept\u001b[0m \u001b[0mTypeError\u001b[0m \u001b[1;32mas\u001b[0m \u001b[0me\u001b[0m\u001b[1;33m:\u001b[0m\u001b[1;33m\u001b[0m\u001b[0m\n",
      "\u001b[1;32mc:\\users\\lin\\python\\lib\\site-packages\\pandas\\core\\indexing.py\u001b[0m in \u001b[0;36merror\u001b[1;34m()\u001b[0m\n\u001b[0;32m   1784\u001b[0m                                .format(key=key,\n\u001b[1;32m-> 1785\u001b[1;33m                                        axis=self.obj._get_axis_name(axis)))\n\u001b[0m\u001b[0;32m   1786\u001b[0m \u001b[1;33m\u001b[0m\u001b[0m\n",
      "\u001b[1;31mKeyError\u001b[0m: 'the label [2018-08-29 17:00:00] is not in the [index]'",
      "\nDuring handling of the above exception, another exception occurred:\n",
      "\u001b[1;31mKeyError\u001b[0m                                  Traceback (most recent call last)",
      "\u001b[1;32m<ipython-input-5-906f9c278890>\u001b[0m in \u001b[0;36m<module>\u001b[1;34m()\u001b[0m\n\u001b[0;32m      1\u001b[0m \u001b[1;31m#deal with data issue\u001b[0m\u001b[1;33m\u001b[0m\u001b[1;33m\u001b[0m\u001b[0m\n\u001b[1;32m----> 2\u001b[1;33m \u001b[0mdf\u001b[0m\u001b[1;33m.\u001b[0m\u001b[0mloc\u001b[0m\u001b[1;33m[\u001b[0m\u001b[1;34m'2018-08-29 17:00:00'\u001b[0m\u001b[1;33m]\u001b[0m\u001b[1;33m[\u001b[0m\u001b[1;34m'UBU8'\u001b[0m\u001b[1;33m]\u001b[0m \u001b[1;33m=\u001b[0m \u001b[1;36m158.671875\u001b[0m\u001b[1;33m\u001b[0m\u001b[0m\n\u001b[0m\u001b[0;32m      3\u001b[0m \u001b[0mdf\u001b[0m\u001b[1;33m.\u001b[0m\u001b[0mloc\u001b[0m\u001b[1;33m[\u001b[0m\u001b[1;34m'2018-08-29 17:00:00'\u001b[0m\u001b[1;33m]\u001b[0m\u001b[1;33m[\u001b[0m\u001b[1;34m'ZFU8'\u001b[0m\u001b[1;33m]\u001b[0m \u001b[1;33m=\u001b[0m \u001b[1;36m113.394531\u001b[0m\u001b[1;33m\u001b[0m\u001b[0m\n",
      "\u001b[1;32mc:\\users\\lin\\python\\lib\\site-packages\\pandas\\core\\indexing.py\u001b[0m in \u001b[0;36m__getitem__\u001b[1;34m(self, key)\u001b[0m\n\u001b[0;32m   1476\u001b[0m \u001b[1;33m\u001b[0m\u001b[0m\n\u001b[0;32m   1477\u001b[0m             \u001b[0mmaybe_callable\u001b[0m \u001b[1;33m=\u001b[0m \u001b[0mcom\u001b[0m\u001b[1;33m.\u001b[0m\u001b[0m_apply_if_callable\u001b[0m\u001b[1;33m(\u001b[0m\u001b[0mkey\u001b[0m\u001b[1;33m,\u001b[0m \u001b[0mself\u001b[0m\u001b[1;33m.\u001b[0m\u001b[0mobj\u001b[0m\u001b[1;33m)\u001b[0m\u001b[1;33m\u001b[0m\u001b[0m\n\u001b[1;32m-> 1478\u001b[1;33m             \u001b[1;32mreturn\u001b[0m \u001b[0mself\u001b[0m\u001b[1;33m.\u001b[0m\u001b[0m_getitem_axis\u001b[0m\u001b[1;33m(\u001b[0m\u001b[0mmaybe_callable\u001b[0m\u001b[1;33m,\u001b[0m \u001b[0maxis\u001b[0m\u001b[1;33m=\u001b[0m\u001b[0maxis\u001b[0m\u001b[1;33m)\u001b[0m\u001b[1;33m\u001b[0m\u001b[0m\n\u001b[0m\u001b[0;32m   1479\u001b[0m \u001b[1;33m\u001b[0m\u001b[0m\n\u001b[0;32m   1480\u001b[0m     \u001b[1;32mdef\u001b[0m \u001b[0m_is_scalar_access\u001b[0m\u001b[1;33m(\u001b[0m\u001b[0mself\u001b[0m\u001b[1;33m,\u001b[0m \u001b[0mkey\u001b[0m\u001b[1;33m)\u001b[0m\u001b[1;33m:\u001b[0m\u001b[1;33m\u001b[0m\u001b[0m\n",
      "\u001b[1;32mc:\\users\\lin\\python\\lib\\site-packages\\pandas\\core\\indexing.py\u001b[0m in \u001b[0;36m_getitem_axis\u001b[1;34m(self, key, axis)\u001b[0m\n\u001b[0;32m   1909\u001b[0m \u001b[1;33m\u001b[0m\u001b[0m\n\u001b[0;32m   1910\u001b[0m         \u001b[1;31m# fall thru to straight lookup\u001b[0m\u001b[1;33m\u001b[0m\u001b[1;33m\u001b[0m\u001b[0m\n\u001b[1;32m-> 1911\u001b[1;33m         \u001b[0mself\u001b[0m\u001b[1;33m.\u001b[0m\u001b[0m_validate_key\u001b[0m\u001b[1;33m(\u001b[0m\u001b[0mkey\u001b[0m\u001b[1;33m,\u001b[0m \u001b[0maxis\u001b[0m\u001b[1;33m)\u001b[0m\u001b[1;33m\u001b[0m\u001b[0m\n\u001b[0m\u001b[0;32m   1912\u001b[0m         \u001b[1;32mreturn\u001b[0m \u001b[0mself\u001b[0m\u001b[1;33m.\u001b[0m\u001b[0m_get_label\u001b[0m\u001b[1;33m(\u001b[0m\u001b[0mkey\u001b[0m\u001b[1;33m,\u001b[0m \u001b[0maxis\u001b[0m\u001b[1;33m=\u001b[0m\u001b[0maxis\u001b[0m\u001b[1;33m)\u001b[0m\u001b[1;33m\u001b[0m\u001b[0m\n\u001b[0;32m   1913\u001b[0m \u001b[1;33m\u001b[0m\u001b[0m\n",
      "\u001b[1;32mc:\\users\\lin\\python\\lib\\site-packages\\pandas\\core\\indexing.py\u001b[0m in \u001b[0;36m_validate_key\u001b[1;34m(self, key, axis)\u001b[0m\n\u001b[0;32m   1796\u001b[0m                 \u001b[1;32mraise\u001b[0m\u001b[1;33m\u001b[0m\u001b[0m\n\u001b[0;32m   1797\u001b[0m             \u001b[1;32mexcept\u001b[0m\u001b[1;33m:\u001b[0m\u001b[1;33m\u001b[0m\u001b[0m\n\u001b[1;32m-> 1798\u001b[1;33m                 \u001b[0merror\u001b[0m\u001b[1;33m(\u001b[0m\u001b[1;33m)\u001b[0m\u001b[1;33m\u001b[0m\u001b[0m\n\u001b[0m\u001b[0;32m   1799\u001b[0m \u001b[1;33m\u001b[0m\u001b[0m\n\u001b[0;32m   1800\u001b[0m     \u001b[1;32mdef\u001b[0m \u001b[0m_is_scalar_access\u001b[0m\u001b[1;33m(\u001b[0m\u001b[0mself\u001b[0m\u001b[1;33m,\u001b[0m \u001b[0mkey\u001b[0m\u001b[1;33m)\u001b[0m\u001b[1;33m:\u001b[0m\u001b[1;33m\u001b[0m\u001b[0m\n",
      "\u001b[1;32mc:\\users\\lin\\python\\lib\\site-packages\\pandas\\core\\indexing.py\u001b[0m in \u001b[0;36merror\u001b[1;34m()\u001b[0m\n\u001b[0;32m   1783\u001b[0m                 raise KeyError(u\"the label [{key}] is not in the [{axis}]\"\n\u001b[0;32m   1784\u001b[0m                                .format(key=key,\n\u001b[1;32m-> 1785\u001b[1;33m                                        axis=self.obj._get_axis_name(axis)))\n\u001b[0m\u001b[0;32m   1786\u001b[0m \u001b[1;33m\u001b[0m\u001b[0m\n\u001b[0;32m   1787\u001b[0m             \u001b[1;32mtry\u001b[0m\u001b[1;33m:\u001b[0m\u001b[1;33m\u001b[0m\u001b[0m\n",
      "\u001b[1;31mKeyError\u001b[0m: 'the label [2018-08-29 17:00:00] is not in the [index]'"
     ]
    }
   ],
   "source": [
    "#deal with data issue\n",
    "df.loc['2018-08-29 17:00:00']['UBU8'] = 158.671875\n",
    "df.loc['2018-08-29 17:00:00']['ZFU8'] = 113.394531"
   ]
  },
  {
   "cell_type": "code",
   "execution_count": null,
   "metadata": {},
   "outputs": [],
   "source": [
    "df.iloc[13800]"
   ]
  },
  {
   "cell_type": "code",
   "execution_count": 6,
   "metadata": {
    "ExecuteTime": {
     "end_time": "2018-10-15T01:08:17.594643Z",
     "start_time": "2018-10-15T01:08:17.528152Z"
    }
   },
   "outputs": [],
   "source": [
    "train_template = df.copy()\n",
    "#if len(train_template.loc[train_template.iloc[-1].name.date():]) < min_perday:        # if the last day is not complete\n",
    "#    last_index = dt.datetime.combine(train_template.iloc[-1].name.date(),dt.time(0,0))-dt.timedelta(minutes=1)\n",
    "#    train_template = train_template.loc[:last_index]  # take data until the last day   \n",
    "#if len(train_template.loc[:train_template.iloc[min_perday].name.date()]) < min_perday:       # if the first day is not complete\n",
    "#    train_template = train_template.loc[train_template.iloc[min_perday].name.date():] # take data from the next day\n",
    "#train_template.columns = assets\n",
    "#train_template = train_template.iloc[min_perday*14:-min_perday*14]  # ignore the first and last two weeks\n",
    "train_template = train_template*point_values\n",
    "weights = train_template.columns+'_weight'\n",
    "for w in weights:\n",
    "    train_template[w] = np.nan\n",
    "train_template['trading_idx'] = np.nan\n",
    "train_template['portfolio'] = np.nan\n",
    "train_template['mu'] = np.nan\n",
    "train_template['sigma'] = np.nan"
   ]
  },
  {
   "cell_type": "code",
   "execution_count": 7,
   "metadata": {
    "ExecuteTime": {
     "end_time": "2018-10-15T01:08:30.275862Z",
     "start_time": "2018-10-15T01:08:30.267572Z"
    }
   },
   "outputs": [
    {
     "data": {
      "text/plain": [
       "63.0"
      ]
     },
     "execution_count": 7,
     "metadata": {},
     "output_type": "execute_result"
    }
   ],
   "source": [
    "len(train_template)/min_perday"
   ]
  },
  {
   "cell_type": "markdown",
   "metadata": {},
   "source": [
    "# Parameter"
   ]
  },
  {
   "cell_type": "code",
   "execution_count": 8,
   "metadata": {
    "ExecuteTime": {
     "end_time": "2018-10-15T01:10:05.184250Z",
     "start_time": "2018-10-15T01:10:05.178530Z"
    }
   },
   "outputs": [],
   "source": [
    "#change our value here!\n",
    "use_optimized_parameters = False\n",
    "op_fitting_days = 20\n",
    "op_exit_threshold = 0\n",
    "op_increment = 1.75\n",
    "op_trading_days = 14"
   ]
  },
  {
   "cell_type": "code",
   "execution_count": 9,
   "metadata": {},
   "outputs": [],
   "source": [
    "from sklearn import linear_model"
   ]
  },
  {
   "cell_type": "code",
   "execution_count": 10,
   "metadata": {},
   "outputs": [
    {
     "data": {
      "text/plain": [
       "['UBH8', 'ZBH8', 'TNH8', 'ZNH8', 'ZFH8', 'ZTH8']"
      ]
     },
     "execution_count": 10,
     "metadata": {},
     "output_type": "execute_result"
    }
   ],
   "source": [
    "assets"
   ]
  },
  {
   "cell_type": "code",
   "execution_count": 11,
   "metadata": {
    "ExecuteTime": {
     "end_time": "2018-10-15T01:10:06.107628Z",
     "start_time": "2018-10-15T01:10:05.890842Z"
    }
   },
   "outputs": [],
   "source": [
    "#leave this part fixed\n",
    "def fit(data):\n",
    "    x = data.values\n",
    "    x_centered = x - np.mean(x, axis=0)\n",
    "    johansen = Johansen(x_centered, model=2, significance_level=0)\n",
    "    eigenvectors, r = johansen.johansen()\n",
    "    #print('rejected r values are: {}'.format(r))\n",
    "    vec = eigenvectors[:, 0]\n",
    "    vec_min = np.min(np.abs(vec))\n",
    "    vec = vec / vec_min\n",
    "    #print('The first cointegrating relation: {}'.format(vec))\n",
    "    return vec \n",
    "def fit_1(data):\n",
    "    temp1=data[assets[5]]\n",
    "    temp2=data[assets[0:5]]\n",
    "    reg=linear_model.LinearRegression()\n",
    "    reg.fit(temp2.values,temp1)\n",
    "    coint_vec=np.append(-reg.coef_,np.array([1]))\n",
    "    return coint_vec\n",
    "    \n",
    "\n",
    "\n",
    "def apply_strategy(train):\n",
    "    \n",
    "    # get thresholds\n",
    "    round_trip_cost = (np.array(tick_sizes)*np.array(point_values)*abs(train[weights])).sum(axis=1)\n",
    "    min_increment = round_trip_cost/train['sigma']\n",
    "    entry_threshold = exit_threshold+min_increment+increment\n",
    "    train['entry_threshold'] = entry_threshold\n",
    "    \n",
    "    train['position'] = np.nan\n",
    "    train['l_position'] = np.nan\n",
    "    train['s_position'] = np.nan\n",
    "\n",
    "    # record position changes\n",
    "    train['s_position'].loc[train['portfolio'] > (train['mu'] + entry_threshold*train['sigma'])] = -1\n",
    "    train['s_position'].loc[train['portfolio'] < (train['mu'] + exit_threshold*train['sigma'])] = 0\n",
    "\n",
    "    train['l_position'].loc[train['portfolio'] < (train['mu'] - entry_threshold*train['sigma'])] = 1\n",
    "    train['l_position'].loc[train['portfolio'] > (train['mu'] - exit_threshold*train['sigma'])] = 0\n",
    "\n",
    "\n",
    "    # portfolio is flat at beginning of test period\n",
    "    train['s_position'].iloc[0] = 0\n",
    "    train['l_position'].iloc[0] = 0\n",
    "    # flatten portfolio at end of each trading period\n",
    "    train['s_position'].loc[train.trading_idx.diff(-1) != 0] = 0\n",
    "    train['l_position'].loc[train.trading_idx.diff(-1) != 0] = 0\n",
    "    # flatten portfolio at end\n",
    "    train['s_position'].iloc[-1] = 0\n",
    "    train['l_position'].iloc[-1] = 0\n",
    "    # forward fill positions\n",
    "    train['s_position'] = train['s_position'].ffill()\n",
    "    train['l_position'] = train['l_position'].ffill()\n",
    "\n",
    "    # sum positions\n",
    "    train['position'] = train['l_position'] + train['s_position']\n",
    "\n",
    "    # extract trades\n",
    "    train['trade'] = train['position'].diff(1)\n",
    "    \n",
    "    return train\n",
    "\n",
    "\n",
    "def calc_pnl(round_trips):\n",
    "    pnls = round_trips[assets]\n",
    "    # adjust price changes for trade signal\n",
    "    pnls = pnls.multiply(np.sign(round_trips[weights].values), axis=0)\n",
    "    pnls = pnls.multiply(-np.sign(round_trips['position']).values, axis=0)\n",
    "    # account for crossing the spread\n",
    "    pnls = pnls - np.array(tick_sizes)*np.array(point_values)\n",
    "    # apply contract weights\n",
    "    pnls = pnls * np.abs(round_trips[weights].values)\n",
    "    return pnls"
   ]
  },
  {
   "cell_type": "code",
   "execution_count": 12,
   "metadata": {
    "ExecuteTime": {
     "end_time": "2018-10-15T01:12:32.646751Z",
     "start_time": "2018-10-15T01:12:32.632568Z"
    }
   },
   "outputs": [],
   "source": [
    "# set parameters:\n",
    "if use_optimized_parameters:\n",
    "    fitting_days_range = [op_fitting_days]\n",
    "    exit_threshold_range = [op_exit_threshold]\n",
    "    increment_range = [op_increment]\n",
    "else:\n",
    "    fitting_days_range = range(5,25,5)\n",
    "    exit_threshold_range = np.arange(-1,1,0.2)\n",
    "    increment_range = np.arange(0,4,0.25)"
   ]
  },
  {
   "cell_type": "markdown",
   "metadata": {},
   "source": [
    "## change stop_sign here!"
   ]
  },
  {
   "cell_type": "code",
   "execution_count": 13,
   "metadata": {
    "ExecuteTime": {
     "end_time": "2018-10-15T01:12:33.807689Z",
     "start_time": "2018-10-15T01:12:33.414676Z"
    }
   },
   "outputs": [],
   "source": [
    "pnlrecord=[]#record PnL\n",
    "parameters=[]\n",
    "stop_sign=1000 # value for stop trading if the 1 dim norm of weights too large, larger than stop_sign\n",
    "for fitting_days in fitting_days_range:\n",
    "    if use_optimized_parameters:\n",
    "        trading_days_range = [op_trading_days]\n",
    "    else:\n",
    "        trading_days_range = range(1,fitting_days)\n",
    "        \n",
    "    for trading_days in trading_days_range:\n",
    "        train = train_template.copy()\n",
    "    \n",
    "        trade_period = min_perday*trading_days\n",
    "        fit_period = min_perday*fitting_days\n",
    "        padding = min_perday*fitting_days\n",
    "        num_periods = (len(train)-padding)//trade_period\n",
    "        \n",
    "    \n",
    "        # training\n",
    "        for i in range(num_periods):\n",
    "            trading_start =  (padding + i     * trade_period)\n",
    "            trading_end =    (padding + (i+1) * trade_period)\n",
    "            fitting_start = trading_start-fit_period\n",
    "            fitting_end =   trading_start\n",
    "        \n",
    "            train['trading_idx'].iloc[trading_start:trading_end] = i\n",
    "            fit_data = train.iloc[fitting_start:fitting_end]\n",
    "            \n",
    "            coint_vec = fit(fit_data[assets])\n",
    "            fit_portfolio = np.dot(fit_data[assets].values, coint_vec)\n",
    "            #print(coint_vec)\n",
    "            \n",
    "            for j in range(len(coint_vec)):\n",
    "                train[weights[j]][train.trading_idx == i] = coint_vec[j]\n",
    "            \n",
    "            train['mu'][train.trading_idx == i] = fit_portfolio.mean()\n",
    "            train['sigma'][train.trading_idx == i] = fit_portfolio.std()\n",
    "            train['portfolio'][train.trading_idx == i] = np.dot(train[train.trading_idx == i][assets].values, coint_vec)\n",
    "            \n",
    "        train.dropna(subset=['trading_idx'],inplace=True)\n",
    "        \n",
    "        # formulate and apply strategy\n",
    "        for exit_threshold in exit_threshold_range:\n",
    "            for increment in increment_range:    \n",
    "                \n",
    "                apply_strategy(train)\n",
    "                \n",
    "                # find trades\n",
    "                trades = train.loc[train['trade'] != 0].dropna(subset=['trade'])\n",
    "                trades.reset_index(inplace=True)\n",
    "                # seperate trades where holding positions jumped\n",
    "                trades = trades.loc[trades.index.repeat(abs(trades['trade']).astype(int))].reset_index(drop=False)\n",
    "                \n",
    "                #if the sum of the abs value of weights(first order norm of weights) outperforms stop_sign, we drop this term \n",
    "                trades['temp_value']=np.abs(trades[weights].values).sum(axis=1)\n",
    "                trades_temp=trades.loc[trades['temp_value']<stop_sign]\n",
    "                #trades['position'].loc[trades['temp_value']>stop_sign]=0\n",
    "                #trades_temp=trades.copy()\n",
    "\n",
    "                # get round trips\n",
    "                round_trips = trades_temp.iloc[1::2].reset_index() - trades_temp.iloc[::2].reset_index()\n",
    "                round_trips[weights] = trades_temp[weights].iloc[::2].reset_index(drop=True)\n",
    "                round_trips=round_trips.dropna()\n",
    "                #round_trips.drop([round_trips.loc[sum(np.abs(round_trips[weights].values))>stop_sign].index])\n",
    "                \n",
    "                pnls = calc_pnl(round_trips)\n",
    "                \n",
    "                parameters.append([fitting_days,trading_days,exit_threshold,increment,num_periods])\n",
    "                result=pnls.sum(axis=1).to_frame('pnl')\n",
    "                result['holding_period'] = round_trips['timestamp']\n",
    "                result['trading_total_pos'] = abs(round_trips[weights]).sum(axis=1)\n",
    "                result['trading_net_pos'] = round_trips[weights].sum(axis=1)\n",
    "                result['abnormal_close'] = ((trades_temp['position'] == 0) & ((trades_temp['trade']==1)&(trades_temp['portfolio'] - trades_temp['mu'] > trades_temp['sigma']*exit_threshold) | (trades_temp['trade']==-1)&(trades_temp['portfolio'] - trades_temp['mu'] < trades_temp['sigma']*exit_threshold))).iloc[1::2].reset_index(drop=True)\n",
    "                pnlrecord.append(result)\n",
    "                          "
   ]
  },
  {
   "cell_type": "code",
   "execution_count": 14,
   "metadata": {
    "ExecuteTime": {
     "end_time": "2018-10-15T01:12:36.890998Z",
     "start_time": "2018-10-15T01:12:36.866055Z"
    }
   },
   "outputs": [
    {
     "data": {
      "text/html": [
       "<div>\n",
       "<style scoped>\n",
       "    .dataframe tbody tr th:only-of-type {\n",
       "        vertical-align: middle;\n",
       "    }\n",
       "\n",
       "    .dataframe tbody tr th {\n",
       "        vertical-align: top;\n",
       "    }\n",
       "\n",
       "    .dataframe thead th {\n",
       "        text-align: right;\n",
       "    }\n",
       "</style>\n",
       "<table border=\"1\" class=\"dataframe\">\n",
       "  <thead>\n",
       "    <tr style=\"text-align: right;\">\n",
       "      <th></th>\n",
       "      <th>pnl</th>\n",
       "      <th>holding_period</th>\n",
       "      <th>trading_total_pos</th>\n",
       "      <th>trading_net_pos</th>\n",
       "      <th>abnormal_close</th>\n",
       "    </tr>\n",
       "  </thead>\n",
       "  <tbody>\n",
       "    <tr>\n",
       "      <th>0</th>\n",
       "      <td>217.826953</td>\n",
       "      <td>3 days 15:18:00</td>\n",
       "      <td>20.780957</td>\n",
       "      <td>-0.484928</td>\n",
       "      <td>False</td>\n",
       "    </tr>\n",
       "    <tr>\n",
       "      <th>1</th>\n",
       "      <td>225.995228</td>\n",
       "      <td>2 days 03:57:00</td>\n",
       "      <td>20.780957</td>\n",
       "      <td>-0.484928</td>\n",
       "      <td>False</td>\n",
       "    </tr>\n",
       "    <tr>\n",
       "      <th>2</th>\n",
       "      <td>287.588684</td>\n",
       "      <td>2 days 16:15:00</td>\n",
       "      <td>20.780957</td>\n",
       "      <td>-0.484928</td>\n",
       "      <td>False</td>\n",
       "    </tr>\n",
       "    <tr>\n",
       "      <th>3</th>\n",
       "      <td>-1170.652746</td>\n",
       "      <td>8 days 07:03:00</td>\n",
       "      <td>32.477048</td>\n",
       "      <td>0.687332</td>\n",
       "      <td>True</td>\n",
       "    </tr>\n",
       "    <tr>\n",
       "      <th>4</th>\n",
       "      <td>492.161755</td>\n",
       "      <td>3 days 07:22:00</td>\n",
       "      <td>52.153648</td>\n",
       "      <td>2.078446</td>\n",
       "      <td>False</td>\n",
       "    </tr>\n",
       "    <tr>\n",
       "      <th>5</th>\n",
       "      <td>425.124730</td>\n",
       "      <td>4 days 04:25:00</td>\n",
       "      <td>52.153648</td>\n",
       "      <td>2.078446</td>\n",
       "      <td>False</td>\n",
       "    </tr>\n",
       "    <tr>\n",
       "      <th>6</th>\n",
       "      <td>501.364199</td>\n",
       "      <td>0 days 15:40:00</td>\n",
       "      <td>52.153648</td>\n",
       "      <td>2.078446</td>\n",
       "      <td>False</td>\n",
       "    </tr>\n",
       "    <tr>\n",
       "      <th>7</th>\n",
       "      <td>609.049305</td>\n",
       "      <td>0 days 00:29:00</td>\n",
       "      <td>52.153648</td>\n",
       "      <td>2.078446</td>\n",
       "      <td>False</td>\n",
       "    </tr>\n",
       "    <tr>\n",
       "      <th>8</th>\n",
       "      <td>534.545661</td>\n",
       "      <td>0 days 09:16:00</td>\n",
       "      <td>52.153648</td>\n",
       "      <td>2.078446</td>\n",
       "      <td>False</td>\n",
       "    </tr>\n",
       "    <tr>\n",
       "      <th>9</th>\n",
       "      <td>-986.868205</td>\n",
       "      <td>2 days 06:34:00</td>\n",
       "      <td>52.153648</td>\n",
       "      <td>2.078446</td>\n",
       "      <td>True</td>\n",
       "    </tr>\n",
       "    <tr>\n",
       "      <th>10</th>\n",
       "      <td>7534.698371</td>\n",
       "      <td>2 days 16:08:00</td>\n",
       "      <td>683.776537</td>\n",
       "      <td>-12.966998</td>\n",
       "      <td>False</td>\n",
       "    </tr>\n",
       "    <tr>\n",
       "      <th>11</th>\n",
       "      <td>6617.619677</td>\n",
       "      <td>1 days 08:51:00</td>\n",
       "      <td>683.776537</td>\n",
       "      <td>-12.966998</td>\n",
       "      <td>False</td>\n",
       "    </tr>\n",
       "  </tbody>\n",
       "</table>\n",
       "</div>"
      ],
      "text/plain": [
       "            pnl  holding_period  trading_total_pos  trading_net_pos  \\\n",
       "0    217.826953 3 days 15:18:00          20.780957        -0.484928   \n",
       "1    225.995228 2 days 03:57:00          20.780957        -0.484928   \n",
       "2    287.588684 2 days 16:15:00          20.780957        -0.484928   \n",
       "3  -1170.652746 8 days 07:03:00          32.477048         0.687332   \n",
       "4    492.161755 3 days 07:22:00          52.153648         2.078446   \n",
       "5    425.124730 4 days 04:25:00          52.153648         2.078446   \n",
       "6    501.364199 0 days 15:40:00          52.153648         2.078446   \n",
       "7    609.049305 0 days 00:29:00          52.153648         2.078446   \n",
       "8    534.545661 0 days 09:16:00          52.153648         2.078446   \n",
       "9   -986.868205 2 days 06:34:00          52.153648         2.078446   \n",
       "10  7534.698371 2 days 16:08:00         683.776537       -12.966998   \n",
       "11  6617.619677 1 days 08:51:00         683.776537       -12.966998   \n",
       "\n",
       "    abnormal_close  \n",
       "0            False  \n",
       "1            False  \n",
       "2            False  \n",
       "3             True  \n",
       "4            False  \n",
       "5            False  \n",
       "6            False  \n",
       "7            False  \n",
       "8            False  \n",
       "9             True  \n",
       "10           False  \n",
       "11           False  "
      ]
     },
     "metadata": {},
     "output_type": "display_data"
    },
    {
     "name": "stdout",
     "output_type": "stream",
     "text": [
      "[20, 10, -1.0, 1.5, 4]\n",
      "[382.21134033]\n"
     ]
    }
   ],
   "source": [
    "daily_profit=np.zeros([len(pnlrecord),1])               \n",
    "for i in range(len(pnlrecord)):\n",
    "    daily_profit[i]=pnlrecord[i]['pnl'].sum()/parameters[i][1]/parameters[i][4]\n",
    "maximum=np.max(daily_profit)\n",
    "idx=daily_profit.argmax()\n",
    "#[best_parameterfitting_days,trading_days,exit_threshold,op_increment,num_preiods]\n",
    "best_parameter=parameters[idx]\n",
    "display(pnlrecord[idx])\n",
    "print(best_parameter)\n",
    "print(max(daily_profit))"
   ]
  },
  {
   "cell_type": "code",
   "execution_count": 15,
   "metadata": {},
   "outputs": [
    {
     "data": {
      "text/html": [
       "<div>\n",
       "<style scoped>\n",
       "    .dataframe tbody tr th:only-of-type {\n",
       "        vertical-align: middle;\n",
       "    }\n",
       "\n",
       "    .dataframe tbody tr th {\n",
       "        vertical-align: top;\n",
       "    }\n",
       "\n",
       "    .dataframe thead th {\n",
       "        text-align: right;\n",
       "    }\n",
       "</style>\n",
       "<table border=\"1\" class=\"dataframe\">\n",
       "  <thead>\n",
       "    <tr style=\"text-align: right;\">\n",
       "      <th></th>\n",
       "      <th>pnl</th>\n",
       "      <th>holding_period</th>\n",
       "      <th>trading_total_pos</th>\n",
       "      <th>trading_net_pos</th>\n",
       "      <th>abnormal_close</th>\n",
       "    </tr>\n",
       "  </thead>\n",
       "  <tbody>\n",
       "    <tr>\n",
       "      <th>0</th>\n",
       "      <td>217.826953</td>\n",
       "      <td>3 days 15:18:00</td>\n",
       "      <td>20.780957</td>\n",
       "      <td>-0.484928</td>\n",
       "      <td>False</td>\n",
       "    </tr>\n",
       "    <tr>\n",
       "      <th>1</th>\n",
       "      <td>225.995228</td>\n",
       "      <td>2 days 03:57:00</td>\n",
       "      <td>20.780957</td>\n",
       "      <td>-0.484928</td>\n",
       "      <td>False</td>\n",
       "    </tr>\n",
       "    <tr>\n",
       "      <th>2</th>\n",
       "      <td>287.588684</td>\n",
       "      <td>2 days 16:15:00</td>\n",
       "      <td>20.780957</td>\n",
       "      <td>-0.484928</td>\n",
       "      <td>False</td>\n",
       "    </tr>\n",
       "    <tr>\n",
       "      <th>3</th>\n",
       "      <td>-1170.652746</td>\n",
       "      <td>8 days 07:03:00</td>\n",
       "      <td>32.477048</td>\n",
       "      <td>0.687332</td>\n",
       "      <td>True</td>\n",
       "    </tr>\n",
       "    <tr>\n",
       "      <th>4</th>\n",
       "      <td>492.161755</td>\n",
       "      <td>3 days 07:22:00</td>\n",
       "      <td>52.153648</td>\n",
       "      <td>2.078446</td>\n",
       "      <td>False</td>\n",
       "    </tr>\n",
       "    <tr>\n",
       "      <th>5</th>\n",
       "      <td>425.124730</td>\n",
       "      <td>4 days 04:25:00</td>\n",
       "      <td>52.153648</td>\n",
       "      <td>2.078446</td>\n",
       "      <td>False</td>\n",
       "    </tr>\n",
       "    <tr>\n",
       "      <th>6</th>\n",
       "      <td>501.364199</td>\n",
       "      <td>0 days 15:40:00</td>\n",
       "      <td>52.153648</td>\n",
       "      <td>2.078446</td>\n",
       "      <td>False</td>\n",
       "    </tr>\n",
       "    <tr>\n",
       "      <th>7</th>\n",
       "      <td>609.049305</td>\n",
       "      <td>0 days 00:29:00</td>\n",
       "      <td>52.153648</td>\n",
       "      <td>2.078446</td>\n",
       "      <td>False</td>\n",
       "    </tr>\n",
       "    <tr>\n",
       "      <th>8</th>\n",
       "      <td>534.545661</td>\n",
       "      <td>0 days 09:16:00</td>\n",
       "      <td>52.153648</td>\n",
       "      <td>2.078446</td>\n",
       "      <td>False</td>\n",
       "    </tr>\n",
       "    <tr>\n",
       "      <th>9</th>\n",
       "      <td>-986.868205</td>\n",
       "      <td>2 days 06:34:00</td>\n",
       "      <td>52.153648</td>\n",
       "      <td>2.078446</td>\n",
       "      <td>True</td>\n",
       "    </tr>\n",
       "    <tr>\n",
       "      <th>10</th>\n",
       "      <td>7534.698371</td>\n",
       "      <td>2 days 16:08:00</td>\n",
       "      <td>683.776537</td>\n",
       "      <td>-12.966998</td>\n",
       "      <td>False</td>\n",
       "    </tr>\n",
       "    <tr>\n",
       "      <th>11</th>\n",
       "      <td>6617.619677</td>\n",
       "      <td>1 days 08:51:00</td>\n",
       "      <td>683.776537</td>\n",
       "      <td>-12.966998</td>\n",
       "      <td>False</td>\n",
       "    </tr>\n",
       "  </tbody>\n",
       "</table>\n",
       "</div>"
      ],
      "text/plain": [
       "            pnl  holding_period  trading_total_pos  trading_net_pos  \\\n",
       "0    217.826953 3 days 15:18:00          20.780957        -0.484928   \n",
       "1    225.995228 2 days 03:57:00          20.780957        -0.484928   \n",
       "2    287.588684 2 days 16:15:00          20.780957        -0.484928   \n",
       "3  -1170.652746 8 days 07:03:00          32.477048         0.687332   \n",
       "4    492.161755 3 days 07:22:00          52.153648         2.078446   \n",
       "5    425.124730 4 days 04:25:00          52.153648         2.078446   \n",
       "6    501.364199 0 days 15:40:00          52.153648         2.078446   \n",
       "7    609.049305 0 days 00:29:00          52.153648         2.078446   \n",
       "8    534.545661 0 days 09:16:00          52.153648         2.078446   \n",
       "9   -986.868205 2 days 06:34:00          52.153648         2.078446   \n",
       "10  7534.698371 2 days 16:08:00         683.776537       -12.966998   \n",
       "11  6617.619677 1 days 08:51:00         683.776537       -12.966998   \n",
       "\n",
       "    abnormal_close  \n",
       "0            False  \n",
       "1            False  \n",
       "2            False  \n",
       "3             True  \n",
       "4            False  \n",
       "5            False  \n",
       "6            False  \n",
       "7            False  \n",
       "8            False  \n",
       "9             True  \n",
       "10           False  \n",
       "11           False  "
      ]
     },
     "metadata": {},
     "output_type": "display_data"
    },
    {
     "data": {
      "text/plain": [
       "-508431.086330293"
      ]
     },
     "execution_count": 15,
     "metadata": {},
     "output_type": "execute_result"
    }
   ],
   "source": [
    "display(pnlrecord[idx])\n",
    "daily_profit.sum()"
   ]
  },
  {
   "cell_type": "code",
   "execution_count": 43,
   "metadata": {},
   "outputs": [
    {
     "data": {
      "text/plain": [
       "13618.046596687418"
      ]
     },
     "execution_count": 43,
     "metadata": {},
     "output_type": "execute_result"
    }
   ],
   "source": [
    "pnlrecord[idx]['pnl'].sum()"
   ]
  },
  {
   "cell_type": "code",
   "execution_count": 33,
   "metadata": {},
   "outputs": [
    {
     "data": {
      "text/plain": [
       "<matplotlib.axes._subplots.AxesSubplot at 0x1acdefc3908>"
      ]
     },
     "execution_count": 33,
     "metadata": {},
     "output_type": "execute_result"
    },
    {
     "data": {
      "image/png": "[encoded data removed]",
      "text/plain": [
       "<Figure size 432x288 with 1 Axes>"
      ]
     },
     "metadata": {
      "needs_background": "light"
     },
     "output_type": "display_data"
    }
   ],
   "source": [
    "train['portfolio'].iloc[:int(len(train)/4)].plot()"
   ]
  },
  {
   "cell_type": "code",
   "execution_count": 38,
   "metadata": {},
   "outputs": [
    {
     "data": {
      "text/plain": [
       "<matplotlib.axes._subplots.AxesSubplot at 0x1acdee5f470>"
      ]
     },
     "execution_count": 38,
     "metadata": {},
     "output_type": "execute_result"
    },
    {
     "data": {
      "image/png": "[encoded data removed]",
      "text/plain": [
       "<Figure size 432x288 with 1 Axes>"
      ]
     },
     "metadata": {
      "needs_background": "light"
     },
     "output_type": "display_data"
    }
   ],
   "source": [
    "train['portfolio'].iloc[:int(len(train)/4)].plot()"
   ]
  },
  {
   "cell_type": "markdown",
   "metadata": {},
   "source": [
    "## not sure value plot here"
   ]
  },
  {
   "cell_type": "raw",
   "metadata": {},
   "source": [
    "os.chdir('C:\\\\Users\\\\lin\\\\OneDrive\\\\practium\\\\23_hour')"
   ]
  },
  {
   "cell_type": "code",
   "execution_count": 15,
   "metadata": {},
   "outputs": [
    {
     "data": {
      "text/html": [
       "<div>\n",
       "<style scoped>\n",
       "    .dataframe tbody tr th:only-of-type {\n",
       "        vertical-align: middle;\n",
       "    }\n",
       "\n",
       "    .dataframe tbody tr th {\n",
       "        vertical-align: top;\n",
       "    }\n",
       "\n",
       "    .dataframe thead th {\n",
       "        text-align: right;\n",
       "    }\n",
       "</style>\n",
       "<table border=\"1\" class=\"dataframe\">\n",
       "  <thead>\n",
       "    <tr style=\"text-align: right;\">\n",
       "      <th></th>\n",
       "      <th>UBU8</th>\n",
       "      <th>ZBU8</th>\n",
       "      <th>TNU8</th>\n",
       "      <th>ZNU8</th>\n",
       "      <th>ZFU8</th>\n",
       "      <th>ZTU8</th>\n",
       "      <th>UBU8_weight</th>\n",
       "      <th>ZBU8_weight</th>\n",
       "      <th>TNU8_weight</th>\n",
       "      <th>ZNU8_weight</th>\n",
       "      <th>...</th>\n",
       "      <th>ZTU8_weight</th>\n",
       "      <th>trading_idx</th>\n",
       "      <th>portfolio</th>\n",
       "      <th>mu</th>\n",
       "      <th>sigma</th>\n",
       "      <th>entry_threshold</th>\n",
       "      <th>position</th>\n",
       "      <th>l_position</th>\n",
       "      <th>s_position</th>\n",
       "      <th>trade</th>\n",
       "    </tr>\n",
       "    <tr>\n",
       "      <th>timestamp</th>\n",
       "      <th></th>\n",
       "      <th></th>\n",
       "      <th></th>\n",
       "      <th></th>\n",
       "      <th></th>\n",
       "      <th></th>\n",
       "      <th></th>\n",
       "      <th></th>\n",
       "      <th></th>\n",
       "      <th></th>\n",
       "      <th></th>\n",
       "      <th></th>\n",
       "      <th></th>\n",
       "      <th></th>\n",
       "      <th></th>\n",
       "      <th></th>\n",
       "      <th></th>\n",
       "      <th></th>\n",
       "      <th></th>\n",
       "      <th></th>\n",
       "      <th></th>\n",
       "    </tr>\n",
       "  </thead>\n",
       "  <tbody>\n",
       "    <tr>\n",
       "      <th>2018-07-05 09:48:00-05:00</th>\n",
       "      <td>160359.375</td>\n",
       "      <td>145546.875</td>\n",
       "      <td>128414.0625</td>\n",
       "      <td>120320.3125</td>\n",
       "      <td>113605.46875</td>\n",
       "      <td>211757.8125</td>\n",
       "      <td>-1.000000</td>\n",
       "      <td>-1.546695</td>\n",
       "      <td>19.333344</td>\n",
       "      <td>-26.702348</td>\n",
       "      <td>...</td>\n",
       "      <td>3.096483</td>\n",
       "      <td>0.0</td>\n",
       "      <td>5.750097e+05</td>\n",
       "      <td>5.764495e+05</td>\n",
       "      <td>274.663897</td>\n",
       "      <td>5.093891</td>\n",
       "      <td>1.0</td>\n",
       "      <td>1.0</td>\n",
       "      <td>0.0</td>\n",
       "      <td>1.0</td>\n",
       "    </tr>\n",
       "    <tr>\n",
       "      <th>2018-07-18 15:59:00-05:00</th>\n",
       "      <td>159484.375</td>\n",
       "      <td>144796.875</td>\n",
       "      <td>128039.0625</td>\n",
       "      <td>120070.3125</td>\n",
       "      <td>113441.40625</td>\n",
       "      <td>211539.0625</td>\n",
       "      <td>-1.000000</td>\n",
       "      <td>-1.546695</td>\n",
       "      <td>19.333344</td>\n",
       "      <td>-26.702348</td>\n",
       "      <td>...</td>\n",
       "      <td>3.096483</td>\n",
       "      <td>0.0</td>\n",
       "      <td>5.742983e+05</td>\n",
       "      <td>5.764495e+05</td>\n",
       "      <td>274.663897</td>\n",
       "      <td>5.093891</td>\n",
       "      <td>0.0</td>\n",
       "      <td>0.0</td>\n",
       "      <td>0.0</td>\n",
       "      <td>-1.0</td>\n",
       "    </tr>\n",
       "    <tr>\n",
       "      <th>2018-07-20 09:00:00-05:00</th>\n",
       "      <td>159109.375</td>\n",
       "      <td>144703.125</td>\n",
       "      <td>128039.0625</td>\n",
       "      <td>120148.4375</td>\n",
       "      <td>113542.96875</td>\n",
       "      <td>211617.1875</td>\n",
       "      <td>-11.016619</td>\n",
       "      <td>64.975138</td>\n",
       "      <td>-276.168724</td>\n",
       "      <td>282.208755</td>\n",
       "      <td>...</td>\n",
       "      <td>1.000000</td>\n",
       "      <td>1.0</td>\n",
       "      <td>4.678827e+06</td>\n",
       "      <td>4.660488e+06</td>\n",
       "      <td>3723.395229</td>\n",
       "      <td>4.767127</td>\n",
       "      <td>-1.0</td>\n",
       "      <td>0.0</td>\n",
       "      <td>-1.0</td>\n",
       "      <td>-1.0</td>\n",
       "    </tr>\n",
       "    <tr>\n",
       "      <th>2018-07-24 23:06:00-05:00</th>\n",
       "      <td>157453.125</td>\n",
       "      <td>143453.125</td>\n",
       "      <td>127398.4375</td>\n",
       "      <td>119664.0625</td>\n",
       "      <td>113261.71875</td>\n",
       "      <td>211492.1875</td>\n",
       "      <td>-11.016619</td>\n",
       "      <td>64.975138</td>\n",
       "      <td>-276.168724</td>\n",
       "      <td>282.208755</td>\n",
       "      <td>...</td>\n",
       "      <td>1.000000</td>\n",
       "      <td>1.0</td>\n",
       "      <td>4.660237e+06</td>\n",
       "      <td>4.660488e+06</td>\n",
       "      <td>3723.395229</td>\n",
       "      <td>4.767127</td>\n",
       "      <td>0.0</td>\n",
       "      <td>0.0</td>\n",
       "      <td>0.0</td>\n",
       "      <td>1.0</td>\n",
       "    </tr>\n",
       "    <tr>\n",
       "      <th>2018-07-31 15:01:00-05:00</th>\n",
       "      <td>156921.875</td>\n",
       "      <td>143015.625</td>\n",
       "      <td>127132.8125</td>\n",
       "      <td>119414.0625</td>\n",
       "      <td>113105.46875</td>\n",
       "      <td>211351.5625</td>\n",
       "      <td>-11.016619</td>\n",
       "      <td>64.975138</td>\n",
       "      <td>-276.168724</td>\n",
       "      <td>282.208755</td>\n",
       "      <td>...</td>\n",
       "      <td>1.000000</td>\n",
       "      <td>1.0</td>\n",
       "      <td>4.642706e+06</td>\n",
       "      <td>4.660488e+06</td>\n",
       "      <td>3723.395229</td>\n",
       "      <td>4.767127</td>\n",
       "      <td>1.0</td>\n",
       "      <td>1.0</td>\n",
       "      <td>0.0</td>\n",
       "      <td>1.0</td>\n",
       "    </tr>\n",
       "    <tr>\n",
       "      <th>2018-08-01 17:00:00-05:00</th>\n",
       "      <td>155609.375</td>\n",
       "      <td>142187.500</td>\n",
       "      <td>126679.6875</td>\n",
       "      <td>119171.8750</td>\n",
       "      <td>113015.62500</td>\n",
       "      <td>211328.1250</td>\n",
       "      <td>-11.016619</td>\n",
       "      <td>64.975138</td>\n",
       "      <td>-276.168724</td>\n",
       "      <td>282.208755</td>\n",
       "      <td>...</td>\n",
       "      <td>1.000000</td>\n",
       "      <td>1.0</td>\n",
       "      <td>4.661494e+06</td>\n",
       "      <td>4.660488e+06</td>\n",
       "      <td>3723.395229</td>\n",
       "      <td>4.767127</td>\n",
       "      <td>0.0</td>\n",
       "      <td>0.0</td>\n",
       "      <td>0.0</td>\n",
       "      <td>-1.0</td>\n",
       "    </tr>\n",
       "    <tr>\n",
       "      <th>2018-08-10 09:48:00-05:00</th>\n",
       "      <td>158109.375</td>\n",
       "      <td>144046.875</td>\n",
       "      <td>127929.6875</td>\n",
       "      <td>120148.4375</td>\n",
       "      <td>113566.40625</td>\n",
       "      <td>211648.4375</td>\n",
       "      <td>-1.943495</td>\n",
       "      <td>3.321928</td>\n",
       "      <td>6.632650</td>\n",
       "      <td>-14.962739</td>\n",
       "      <td>...</td>\n",
       "      <td>-1.000000</td>\n",
       "      <td>2.0</td>\n",
       "      <td>-8.790485e+04</td>\n",
       "      <td>-8.699082e+04</td>\n",
       "      <td>147.200981</td>\n",
       "      <td>5.687685</td>\n",
       "      <td>1.0</td>\n",
       "      <td>1.0</td>\n",
       "      <td>0.0</td>\n",
       "      <td>1.0</td>\n",
       "    </tr>\n",
       "    <tr>\n",
       "      <th>2018-08-13 14:24:00-05:00</th>\n",
       "      <td>158078.125</td>\n",
       "      <td>144328.125</td>\n",
       "      <td>128054.6875</td>\n",
       "      <td>120242.1875</td>\n",
       "      <td>113628.90625</td>\n",
       "      <td>211648.4375</td>\n",
       "      <td>-1.943495</td>\n",
       "      <td>3.321928</td>\n",
       "      <td>6.632650</td>\n",
       "      <td>-14.962739</td>\n",
       "      <td>...</td>\n",
       "      <td>-1.000000</td>\n",
       "      <td>2.0</td>\n",
       "      <td>-8.698723e+04</td>\n",
       "      <td>-8.699082e+04</td>\n",
       "      <td>147.200981</td>\n",
       "      <td>5.687685</td>\n",
       "      <td>0.0</td>\n",
       "      <td>0.0</td>\n",
       "      <td>0.0</td>\n",
       "      <td>-1.0</td>\n",
       "    </tr>\n",
       "  </tbody>\n",
       "</table>\n",
       "<p>8 rows × 21 columns</p>\n",
       "</div>"
      ],
      "text/plain": [
       "                                 UBU8        ZBU8         TNU8         ZNU8  \\\n",
       "timestamp                                                                     \n",
       "2018-07-05 09:48:00-05:00  160359.375  145546.875  128414.0625  120320.3125   \n",
       "2018-07-18 15:59:00-05:00  159484.375  144796.875  128039.0625  120070.3125   \n",
       "2018-07-20 09:00:00-05:00  159109.375  144703.125  128039.0625  120148.4375   \n",
       "2018-07-24 23:06:00-05:00  157453.125  143453.125  127398.4375  119664.0625   \n",
       "2018-07-31 15:01:00-05:00  156921.875  143015.625  127132.8125  119414.0625   \n",
       "2018-08-01 17:00:00-05:00  155609.375  142187.500  126679.6875  119171.8750   \n",
       "2018-08-10 09:48:00-05:00  158109.375  144046.875  127929.6875  120148.4375   \n",
       "2018-08-13 14:24:00-05:00  158078.125  144328.125  128054.6875  120242.1875   \n",
       "\n",
       "                                   ZFU8         ZTU8  UBU8_weight  \\\n",
       "timestamp                                                           \n",
       "2018-07-05 09:48:00-05:00  113605.46875  211757.8125    -1.000000   \n",
       "2018-07-18 15:59:00-05:00  113441.40625  211539.0625    -1.000000   \n",
       "2018-07-20 09:00:00-05:00  113542.96875  211617.1875   -11.016619   \n",
       "2018-07-24 23:06:00-05:00  113261.71875  211492.1875   -11.016619   \n",
       "2018-07-31 15:01:00-05:00  113105.46875  211351.5625   -11.016619   \n",
       "2018-08-01 17:00:00-05:00  113015.62500  211328.1250   -11.016619   \n",
       "2018-08-10 09:48:00-05:00  113566.40625  211648.4375    -1.943495   \n",
       "2018-08-13 14:24:00-05:00  113628.90625  211648.4375    -1.943495   \n",
       "\n",
       "                           ZBU8_weight  TNU8_weight  ZNU8_weight  ...    \\\n",
       "timestamp                                                         ...     \n",
       "2018-07-05 09:48:00-05:00    -1.546695    19.333344   -26.702348  ...     \n",
       "2018-07-18 15:59:00-05:00    -1.546695    19.333344   -26.702348  ...     \n",
       "2018-07-20 09:00:00-05:00    64.975138  -276.168724   282.208755  ...     \n",
       "2018-07-24 23:06:00-05:00    64.975138  -276.168724   282.208755  ...     \n",
       "2018-07-31 15:01:00-05:00    64.975138  -276.168724   282.208755  ...     \n",
       "2018-08-01 17:00:00-05:00    64.975138  -276.168724   282.208755  ...     \n",
       "2018-08-10 09:48:00-05:00     3.321928     6.632650   -14.962739  ...     \n",
       "2018-08-13 14:24:00-05:00     3.321928     6.632650   -14.962739  ...     \n",
       "\n",
       "                           ZTU8_weight  trading_idx     portfolio  \\\n",
       "timestamp                                                           \n",
       "2018-07-05 09:48:00-05:00     3.096483          0.0  5.750097e+05   \n",
       "2018-07-18 15:59:00-05:00     3.096483          0.0  5.742983e+05   \n",
       "2018-07-20 09:00:00-05:00     1.000000          1.0  4.678827e+06   \n",
       "2018-07-24 23:06:00-05:00     1.000000          1.0  4.660237e+06   \n",
       "2018-07-31 15:01:00-05:00     1.000000          1.0  4.642706e+06   \n",
       "2018-08-01 17:00:00-05:00     1.000000          1.0  4.661494e+06   \n",
       "2018-08-10 09:48:00-05:00    -1.000000          2.0 -8.790485e+04   \n",
       "2018-08-13 14:24:00-05:00    -1.000000          2.0 -8.698723e+04   \n",
       "\n",
       "                                     mu        sigma  entry_threshold  \\\n",
       "timestamp                                                               \n",
       "2018-07-05 09:48:00-05:00  5.764495e+05   274.663897         5.093891   \n",
       "2018-07-18 15:59:00-05:00  5.764495e+05   274.663897         5.093891   \n",
       "2018-07-20 09:00:00-05:00  4.660488e+06  3723.395229         4.767127   \n",
       "2018-07-24 23:06:00-05:00  4.660488e+06  3723.395229         4.767127   \n",
       "2018-07-31 15:01:00-05:00  4.660488e+06  3723.395229         4.767127   \n",
       "2018-08-01 17:00:00-05:00  4.660488e+06  3723.395229         4.767127   \n",
       "2018-08-10 09:48:00-05:00 -8.699082e+04   147.200981         5.687685   \n",
       "2018-08-13 14:24:00-05:00 -8.699082e+04   147.200981         5.687685   \n",
       "\n",
       "                           position  l_position  s_position  trade  \n",
       "timestamp                                                           \n",
       "2018-07-05 09:48:00-05:00       1.0         1.0         0.0    1.0  \n",
       "2018-07-18 15:59:00-05:00       0.0         0.0         0.0   -1.0  \n",
       "2018-07-20 09:00:00-05:00      -1.0         0.0        -1.0   -1.0  \n",
       "2018-07-24 23:06:00-05:00       0.0         0.0         0.0    1.0  \n",
       "2018-07-31 15:01:00-05:00       1.0         1.0         0.0    1.0  \n",
       "2018-08-01 17:00:00-05:00       0.0         0.0         0.0   -1.0  \n",
       "2018-08-10 09:48:00-05:00       1.0         1.0         0.0    1.0  \n",
       "2018-08-13 14:24:00-05:00       0.0         0.0         0.0   -1.0  \n",
       "\n",
       "[8 rows x 21 columns]"
      ]
     },
     "execution_count": 15,
     "metadata": {},
     "output_type": "execute_result"
    }
   ],
   "source": [
    "train.loc[train['trade'] != 0].dropna(subset=['trade'])"
   ]
  },
  {
   "cell_type": "code",
   "execution_count": 16,
   "metadata": {},
   "outputs": [
    {
     "data": {
      "text/html": [
       "<div>\n",
       "<style scoped>\n",
       "    .dataframe tbody tr th:only-of-type {\n",
       "        vertical-align: middle;\n",
       "    }\n",
       "\n",
       "    .dataframe tbody tr th {\n",
       "        vertical-align: top;\n",
       "    }\n",
       "\n",
       "    .dataframe thead th {\n",
       "        text-align: right;\n",
       "    }\n",
       "</style>\n",
       "<table border=\"1\" class=\"dataframe\">\n",
       "  <thead>\n",
       "    <tr style=\"text-align: right;\">\n",
       "      <th></th>\n",
       "      <th>index</th>\n",
       "      <th>timestamp</th>\n",
       "      <th>UBU8</th>\n",
       "      <th>ZBU8</th>\n",
       "      <th>TNU8</th>\n",
       "      <th>ZNU8</th>\n",
       "      <th>ZFU8</th>\n",
       "      <th>ZTU8</th>\n",
       "      <th>UBU8_weight</th>\n",
       "      <th>ZBU8_weight</th>\n",
       "      <th>...</th>\n",
       "      <th>trading_idx</th>\n",
       "      <th>portfolio</th>\n",
       "      <th>mu</th>\n",
       "      <th>sigma</th>\n",
       "      <th>entry_threshold</th>\n",
       "      <th>position</th>\n",
       "      <th>l_position</th>\n",
       "      <th>s_position</th>\n",
       "      <th>trade</th>\n",
       "      <th>temp_value</th>\n",
       "    </tr>\n",
       "  </thead>\n",
       "  <tbody>\n",
       "    <tr>\n",
       "      <th>0</th>\n",
       "      <td>0</td>\n",
       "      <td>2018-07-05 09:48:00-05:00</td>\n",
       "      <td>160359.375</td>\n",
       "      <td>145546.875</td>\n",
       "      <td>128414.0625</td>\n",
       "      <td>120320.3125</td>\n",
       "      <td>113605.46875</td>\n",
       "      <td>211757.8125</td>\n",
       "      <td>-1.000000</td>\n",
       "      <td>-1.546695</td>\n",
       "      <td>...</td>\n",
       "      <td>0.0</td>\n",
       "      <td>5.750097e+05</td>\n",
       "      <td>5.764495e+05</td>\n",
       "      <td>274.663897</td>\n",
       "      <td>5.093891</td>\n",
       "      <td>1.0</td>\n",
       "      <td>1.0</td>\n",
       "      <td>0.0</td>\n",
       "      <td>1.0</td>\n",
       "      <td>60.788844</td>\n",
       "    </tr>\n",
       "    <tr>\n",
       "      <th>1</th>\n",
       "      <td>1</td>\n",
       "      <td>2018-07-18 15:59:00-05:00</td>\n",
       "      <td>159484.375</td>\n",
       "      <td>144796.875</td>\n",
       "      <td>128039.0625</td>\n",
       "      <td>120070.3125</td>\n",
       "      <td>113441.40625</td>\n",
       "      <td>211539.0625</td>\n",
       "      <td>-1.000000</td>\n",
       "      <td>-1.546695</td>\n",
       "      <td>...</td>\n",
       "      <td>0.0</td>\n",
       "      <td>5.742983e+05</td>\n",
       "      <td>5.764495e+05</td>\n",
       "      <td>274.663897</td>\n",
       "      <td>5.093891</td>\n",
       "      <td>0.0</td>\n",
       "      <td>0.0</td>\n",
       "      <td>0.0</td>\n",
       "      <td>-1.0</td>\n",
       "      <td>60.788844</td>\n",
       "    </tr>\n",
       "    <tr>\n",
       "      <th>2</th>\n",
       "      <td>2</td>\n",
       "      <td>2018-07-20 09:00:00-05:00</td>\n",
       "      <td>159109.375</td>\n",
       "      <td>144703.125</td>\n",
       "      <td>128039.0625</td>\n",
       "      <td>120148.4375</td>\n",
       "      <td>113542.96875</td>\n",
       "      <td>211617.1875</td>\n",
       "      <td>-11.016619</td>\n",
       "      <td>64.975138</td>\n",
       "      <td>...</td>\n",
       "      <td>1.0</td>\n",
       "      <td>4.678827e+06</td>\n",
       "      <td>4.660488e+06</td>\n",
       "      <td>3723.395229</td>\n",
       "      <td>4.767127</td>\n",
       "      <td>-1.0</td>\n",
       "      <td>0.0</td>\n",
       "      <td>-1.0</td>\n",
       "      <td>-1.0</td>\n",
       "      <td>650.593469</td>\n",
       "    </tr>\n",
       "    <tr>\n",
       "      <th>3</th>\n",
       "      <td>3</td>\n",
       "      <td>2018-07-24 23:06:00-05:00</td>\n",
       "      <td>157453.125</td>\n",
       "      <td>143453.125</td>\n",
       "      <td>127398.4375</td>\n",
       "      <td>119664.0625</td>\n",
       "      <td>113261.71875</td>\n",
       "      <td>211492.1875</td>\n",
       "      <td>-11.016619</td>\n",
       "      <td>64.975138</td>\n",
       "      <td>...</td>\n",
       "      <td>1.0</td>\n",
       "      <td>4.660237e+06</td>\n",
       "      <td>4.660488e+06</td>\n",
       "      <td>3723.395229</td>\n",
       "      <td>4.767127</td>\n",
       "      <td>0.0</td>\n",
       "      <td>0.0</td>\n",
       "      <td>0.0</td>\n",
       "      <td>1.0</td>\n",
       "      <td>650.593469</td>\n",
       "    </tr>\n",
       "    <tr>\n",
       "      <th>4</th>\n",
       "      <td>4</td>\n",
       "      <td>2018-07-31 15:01:00-05:00</td>\n",
       "      <td>156921.875</td>\n",
       "      <td>143015.625</td>\n",
       "      <td>127132.8125</td>\n",
       "      <td>119414.0625</td>\n",
       "      <td>113105.46875</td>\n",
       "      <td>211351.5625</td>\n",
       "      <td>-11.016619</td>\n",
       "      <td>64.975138</td>\n",
       "      <td>...</td>\n",
       "      <td>1.0</td>\n",
       "      <td>4.642706e+06</td>\n",
       "      <td>4.660488e+06</td>\n",
       "      <td>3723.395229</td>\n",
       "      <td>4.767127</td>\n",
       "      <td>1.0</td>\n",
       "      <td>1.0</td>\n",
       "      <td>0.0</td>\n",
       "      <td>1.0</td>\n",
       "      <td>650.593469</td>\n",
       "    </tr>\n",
       "    <tr>\n",
       "      <th>5</th>\n",
       "      <td>5</td>\n",
       "      <td>2018-08-01 17:00:00-05:00</td>\n",
       "      <td>155609.375</td>\n",
       "      <td>142187.500</td>\n",
       "      <td>126679.6875</td>\n",
       "      <td>119171.8750</td>\n",
       "      <td>113015.62500</td>\n",
       "      <td>211328.1250</td>\n",
       "      <td>-11.016619</td>\n",
       "      <td>64.975138</td>\n",
       "      <td>...</td>\n",
       "      <td>1.0</td>\n",
       "      <td>4.661494e+06</td>\n",
       "      <td>4.660488e+06</td>\n",
       "      <td>3723.395229</td>\n",
       "      <td>4.767127</td>\n",
       "      <td>0.0</td>\n",
       "      <td>0.0</td>\n",
       "      <td>0.0</td>\n",
       "      <td>-1.0</td>\n",
       "      <td>650.593469</td>\n",
       "    </tr>\n",
       "    <tr>\n",
       "      <th>6</th>\n",
       "      <td>6</td>\n",
       "      <td>2018-08-10 09:48:00-05:00</td>\n",
       "      <td>158109.375</td>\n",
       "      <td>144046.875</td>\n",
       "      <td>127929.6875</td>\n",
       "      <td>120148.4375</td>\n",
       "      <td>113566.40625</td>\n",
       "      <td>211648.4375</td>\n",
       "      <td>-1.943495</td>\n",
       "      <td>3.321928</td>\n",
       "      <td>...</td>\n",
       "      <td>2.0</td>\n",
       "      <td>-8.790485e+04</td>\n",
       "      <td>-8.699082e+04</td>\n",
       "      <td>147.200981</td>\n",
       "      <td>5.687685</td>\n",
       "      <td>1.0</td>\n",
       "      <td>1.0</td>\n",
       "      <td>0.0</td>\n",
       "      <td>1.0</td>\n",
       "      <td>35.801116</td>\n",
       "    </tr>\n",
       "    <tr>\n",
       "      <th>7</th>\n",
       "      <td>7</td>\n",
       "      <td>2018-08-13 14:24:00-05:00</td>\n",
       "      <td>158078.125</td>\n",
       "      <td>144328.125</td>\n",
       "      <td>128054.6875</td>\n",
       "      <td>120242.1875</td>\n",
       "      <td>113628.90625</td>\n",
       "      <td>211648.4375</td>\n",
       "      <td>-1.943495</td>\n",
       "      <td>3.321928</td>\n",
       "      <td>...</td>\n",
       "      <td>2.0</td>\n",
       "      <td>-8.698723e+04</td>\n",
       "      <td>-8.699082e+04</td>\n",
       "      <td>147.200981</td>\n",
       "      <td>5.687685</td>\n",
       "      <td>0.0</td>\n",
       "      <td>0.0</td>\n",
       "      <td>0.0</td>\n",
       "      <td>-1.0</td>\n",
       "      <td>35.801116</td>\n",
       "    </tr>\n",
       "  </tbody>\n",
       "</table>\n",
       "<p>8 rows × 24 columns</p>\n",
       "</div>"
      ],
      "text/plain": [
       "   index                 timestamp        UBU8        ZBU8         TNU8  \\\n",
       "0      0 2018-07-05 09:48:00-05:00  160359.375  145546.875  128414.0625   \n",
       "1      1 2018-07-18 15:59:00-05:00  159484.375  144796.875  128039.0625   \n",
       "2      2 2018-07-20 09:00:00-05:00  159109.375  144703.125  128039.0625   \n",
       "3      3 2018-07-24 23:06:00-05:00  157453.125  143453.125  127398.4375   \n",
       "4      4 2018-07-31 15:01:00-05:00  156921.875  143015.625  127132.8125   \n",
       "5      5 2018-08-01 17:00:00-05:00  155609.375  142187.500  126679.6875   \n",
       "6      6 2018-08-10 09:48:00-05:00  158109.375  144046.875  127929.6875   \n",
       "7      7 2018-08-13 14:24:00-05:00  158078.125  144328.125  128054.6875   \n",
       "\n",
       "          ZNU8          ZFU8         ZTU8  UBU8_weight  ZBU8_weight  \\\n",
       "0  120320.3125  113605.46875  211757.8125    -1.000000    -1.546695   \n",
       "1  120070.3125  113441.40625  211539.0625    -1.000000    -1.546695   \n",
       "2  120148.4375  113542.96875  211617.1875   -11.016619    64.975138   \n",
       "3  119664.0625  113261.71875  211492.1875   -11.016619    64.975138   \n",
       "4  119414.0625  113105.46875  211351.5625   -11.016619    64.975138   \n",
       "5  119171.8750  113015.62500  211328.1250   -11.016619    64.975138   \n",
       "6  120148.4375  113566.40625  211648.4375    -1.943495     3.321928   \n",
       "7  120242.1875  113628.90625  211648.4375    -1.943495     3.321928   \n",
       "\n",
       "      ...      trading_idx     portfolio            mu        sigma  \\\n",
       "0     ...              0.0  5.750097e+05  5.764495e+05   274.663897   \n",
       "1     ...              0.0  5.742983e+05  5.764495e+05   274.663897   \n",
       "2     ...              1.0  4.678827e+06  4.660488e+06  3723.395229   \n",
       "3     ...              1.0  4.660237e+06  4.660488e+06  3723.395229   \n",
       "4     ...              1.0  4.642706e+06  4.660488e+06  3723.395229   \n",
       "5     ...              1.0  4.661494e+06  4.660488e+06  3723.395229   \n",
       "6     ...              2.0 -8.790485e+04 -8.699082e+04   147.200981   \n",
       "7     ...              2.0 -8.698723e+04 -8.699082e+04   147.200981   \n",
       "\n",
       "   entry_threshold  position  l_position  s_position  trade  temp_value  \n",
       "0         5.093891       1.0         1.0         0.0    1.0   60.788844  \n",
       "1         5.093891       0.0         0.0         0.0   -1.0   60.788844  \n",
       "2         4.767127      -1.0         0.0        -1.0   -1.0  650.593469  \n",
       "3         4.767127       0.0         0.0         0.0    1.0  650.593469  \n",
       "4         4.767127       1.0         1.0         0.0    1.0  650.593469  \n",
       "5         4.767127       0.0         0.0         0.0   -1.0  650.593469  \n",
       "6         5.687685       1.0         1.0         0.0    1.0   35.801116  \n",
       "7         5.687685       0.0         0.0         0.0   -1.0   35.801116  \n",
       "\n",
       "[8 rows x 24 columns]"
      ]
     },
     "execution_count": 16,
     "metadata": {},
     "output_type": "execute_result"
    }
   ],
   "source": [
    "trades"
   ]
  },
  {
   "cell_type": "code",
   "execution_count": 15,
   "metadata": {
    "ExecuteTime": {
     "end_time": "2018-10-15T01:12:42.890781Z",
     "start_time": "2018-10-15T01:12:42.853926Z"
    }
   },
   "outputs": [
    {
     "data": {
      "text/plain": [
       "<matplotlib.legend.Legend at 0x22a63286b00>"
      ]
     },
     "execution_count": 15,
     "metadata": {},
     "output_type": "execute_result"
    },
    {
     "data": {
      "image/png": "[encoded data removed]",
      "text/plain": [
       "<Figure size 432x288 with 1 Axes>"
      ]
     },
     "metadata": {
      "needs_background": "light"
     },
     "output_type": "display_data"
    },
    {
     "data": {
      "image/png": "[encoded data removed]",
      "text/plain": [
       "<Figure size 432x288 with 1 Axes>"
      ]
     },
     "metadata": {
      "needs_background": "light"
     },
     "output_type": "display_data"
    }
   ],
   "source": [
    "adjusted_weights = train[weights].multiply(np.sign(train[weights].iloc[:,0].values),axis=0)\n",
    "weights_daily = adjusted_weights.iloc[::1380,]\n",
    "weights_daily.plot()\n",
    "plt.legend(loc='center left',bbox_to_anchor=(1,0.5))\n",
    "weights_daily.diff().plot()\n",
    "plt.legend(loc='center left',bbox_to_anchor=(1,0.5))"
   ]
  },
  {
   "cell_type": "code",
   "execution_count": 16,
   "metadata": {},
   "outputs": [
    {
     "data": {
      "image/png": "[encoded data removed]",
      "text/plain": [
       "<Figure size 432x288 with 1 Axes>"
      ]
     },
     "metadata": {
      "needs_background": "light"
     },
     "output_type": "display_data"
    },
    {
     "name": "stdout",
     "output_type": "stream",
     "text": [
      "2.2602422244148426\n",
      "16.53647275111247\n"
     ]
    }
   ],
   "source": [
    "iter_column = 5\n",
    "plt.hist(weights_daily.iloc[:,iter_column],bins=50)\n",
    "plt.show()\n",
    "print(weights_daily.iloc[:,iter_column].mean())\n",
    "print(weights_daily.iloc[:,iter_column].std())"
   ]
  },
  {
   "cell_type": "code",
   "execution_count": 17,
   "metadata": {},
   "outputs": [
    {
     "data": {
      "text/plain": [
       "[<matplotlib.lines.Line2D at 0x22a64c7fa90>]"
      ]
     },
     "execution_count": 17,
     "metadata": {},
     "output_type": "execute_result"
    },
    {
     "data": {
      "image/png": "[encoded data removed]",
      "text/plain": [
       "<Figure size 432x288 with 1 Axes>"
      ]
     },
     "metadata": {
      "needs_background": "light"
     },
     "output_type": "display_data"
    }
   ],
   "source": [
    "s_t = min_perday*0\n",
    "e_t = min_perday*10\n",
    "train['portfolio'].iloc[s_t:e_t].plot()\n",
    "plt.plot((train.mu+train['entry_threshold']*train.sigma).iloc[s_t:e_t])\n",
    "plt.plot((train.mu).iloc[s_t:e_t])\n",
    "plt.plot((train.mu-train['entry_threshold']*train.sigma).iloc[s_t:e_t])"
   ]
  },
  {
   "cell_type": "code",
   "execution_count": 24,
   "metadata": {},
   "outputs": [],
   "source": [
    "#display(train)"
   ]
  },
  {
   "cell_type": "markdown",
   "metadata": {
    "ExecuteTime": {
     "end_time": "2018-10-15T01:08:16.329526Z",
     "start_time": "2018-10-15T01:08:13.986966Z"
    }
   },
   "source": [
    "###### import pandas as pd\n",
    "import numpy as np\n",
    "from numpy import cumsum, log, polyfit, sqrt, std, subtract\n",
    "from numpy.random import randn\n",
    "\n",
    "import matplotlib.pyplot as plt\n",
    "\n",
    "import statsmodels.tsa.stattools as ts          \n",
    "from statsmodels.graphics.tsaplots import plot_acf\n",
    "from johansen import Johansen\n",
    "import itertools\n",
    "\n",
    "import datetime as dt\n",
    "\n",
    "#%matplotlib inline\n",
    "plt.style.use('ggplot')"
   ]
  },
  {
   "cell_type": "code",
   "execution_count": 19,
   "metadata": {},
   "outputs": [
    {
     "data": {
      "text/plain": [
       "'UBU8'"
      ]
     },
     "execution_count": 19,
     "metadata": {},
     "output_type": "execute_result"
    }
   ],
   "source": [
    "assets[0]"
   ]
  },
  {
   "cell_type": "markdown",
   "metadata": {},
   "source": [
    "# output the parameter txt"
   ]
  },
  {
   "cell_type": "code",
   "execution_count": 31,
   "metadata": {},
   "outputs": [],
   "source": [
    "os.chdir('C:\\\\Users\\\\lin\\\\OneDrive\\\\practium\\\\1000')"
   ]
  },
  {
   "cell_type": "code",
   "execution_count": 32,
   "metadata": {},
   "outputs": [
    {
     "name": "stdout",
     "output_type": "stream",
     "text": [
      "2018-06-29\n",
      "2018-07-02\n",
      "2018-07-03\n",
      "2018-07-04\n",
      "2018-07-05\n",
      "2018-07-06\n",
      "2018-07-09\n",
      "2018-07-10\n",
      "2018-07-11\n",
      "2018-07-12\n",
      "2018-07-13\n",
      "2018-07-16\n",
      "2018-07-17\n",
      "2018-07-18\n",
      "2018-07-19\n",
      "2018-07-20\n",
      "2018-07-23\n",
      "2018-07-24\n",
      "2018-07-25\n",
      "2018-07-26\n",
      "2018-07-27\n",
      "2018-07-30\n",
      "2018-07-31\n",
      "2018-08-01\n",
      "2018-08-02\n",
      "2018-08-03\n",
      "2018-08-06\n",
      "2018-08-07\n",
      "2018-08-08\n",
      "2018-08-09\n",
      "2018-08-10\n",
      "2018-08-13\n",
      "2018-08-14\n",
      "2018-08-15\n",
      "2018-08-16\n",
      "2018-08-17\n",
      "2018-08-20\n",
      "2018-08-21\n",
      "2018-08-22\n",
      "2018-08-23\n",
      "2018-08-24\n",
      "2018-08-27\n"
     ]
    }
   ],
   "source": [
    "iterator_temp=1\n",
    "for row in train[::min_perday].iterrows():\n",
    "    #print(row[1].name)\n",
    "    date = (row[1].name.date())+dt.timedelta(days=1)\n",
    "    print(date)\n",
    "    with open('{}.txt'.format(date),'w') as file:\n",
    "        file.write('signal_mean={}\\n'.format(row[1]['mu']))\n",
    "        file.write('signal_standard_deviation={}\\n'.format(row[1]['sigma']))\n",
    "        file.write('entry_threshold={}\\n'.format(row[1]['entry_threshold']))\n",
    "        file.write('exit_threshold={}\\n'.format(op_exit_threshold))\n",
    "        file.write('abnormal_close={}\\n'.format(int(iterator_temp%op_trading_days==0)))\n",
    "        row_weights = row[1][weights]\n",
    "        for i in range(len(row_weights)):\n",
    "            file.write('{}={}\\n'.format(assets[i],row_weights[i]))\n",
    "    iterator_temp+=1"
   ]
  },
  {
   "cell_type": "code",
   "execution_count": 33,
   "metadata": {},
   "outputs": [
    {
     "data": {
      "text/plain": [
       "43"
      ]
     },
     "execution_count": 33,
     "metadata": {},
     "output_type": "execute_result"
    }
   ],
   "source": [
    "iterator_temp"
   ]
  },
  {
   "cell_type": "code",
   "execution_count": 17,
   "metadata": {},
   "outputs": [
    {
     "data": {
      "text/plain": [
       "UBU8               1.586875e+05\n",
       "ZBU8               1.448281e+05\n",
       "TNU8               1.282344e+05\n",
       "ZNU8               1.203359e+05\n",
       "ZFU8               1.135938e+05\n",
       "ZTU8               2.116328e+05\n",
       "UBU8_weight       -1.000000e+00\n",
       "ZBU8_weight       -1.625340e+01\n",
       "TNU8_weight       -1.619393e+01\n",
       "ZNU8_weight        1.551266e+02\n",
       "ZFU8_weight       -2.077989e+02\n",
       "ZTU8_weight        8.361113e+01\n",
       "trading_idx        7.000000e+00\n",
       "portfolio          8.168255e+06\n",
       "mu                 8.161786e+06\n",
       "sigma              1.251169e+03\n",
       "entry_threshold    8.662129e+00\n",
       "position           0.000000e+00\n",
       "l_position         0.000000e+00\n",
       "s_position         0.000000e+00\n",
       "trade              0.000000e+00\n",
       "Name: 2018-08-31 15:59:00-05:00, dtype: float64"
      ]
     },
     "execution_count": 17,
     "metadata": {},
     "output_type": "execute_result"
    }
   ],
   "source": [
    "train.iloc[-1]"
   ]
  },
  {
   "cell_type": "code",
   "execution_count": null,
   "metadata": {},
   "outputs": [],
   "source": []
  }
 ],
 "metadata": {
  "kernelspec": {
   "display_name": "Python 3",
   "language": "python",
   "name": "python3"
  },
  "language_info": {
   "codemirror_mode": {
    "name": "ipython",
    "version": 3
   },
   "file_extension": ".py",
   "mimetype": "text/x-python",
   "name": "python",
   "nbconvert_exporter": "python",
   "pygments_lexer": "ipython3",
   "version": "3.6.5"
  },
  "varInspector": {
   "cols": {
    "lenName": 16,
    "lenType": 16,
    "lenVar": 40
   },
   "kernels_config": {
    "python": {
     "delete_cmd_postfix": "",
     "delete_cmd_prefix": "del ",
     "library": "var_list.py",
     "varRefreshCmd": "print(var_dic_list())"
    },
    "r": {
     "delete_cmd_postfix": ") ",
     "delete_cmd_prefix": "rm(",
     "library": "var_list.r",
     "varRefreshCmd": "cat(var_dic_list()) "
    }
   },
   "types_to_exclude": [
    "module",
    "function",
    "builtin_function_or_method",
    "instance",
    "_Feature"
   ],
   "window_display": false
  }
 },
 "nbformat": 4,
 "nbformat_minor": 2
}
