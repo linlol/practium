{
 "cells": [
  {
   "cell_type": "code",
   "execution_count": 20,
   "metadata": {
    "ExecuteTime": {
     "end_time": "2018-10-15T01:08:16.329526Z",
     "start_time": "2018-10-15T01:08:13.986966Z"
    }
   },
   "outputs": [],
   "source": [
    "import pandas as pd\n",
    "import numpy as np\n",
    "from numpy import cumsum, log, polyfit, sqrt, std, subtract\n",
    "from numpy.random import randn\n",
    "\n",
    "import matplotlib.pyplot as plt\n",
    "\n",
    "import statsmodels.tsa.stattools as ts          \n",
    "from statsmodels.graphics.tsaplots import plot_acf\n",
    "from johansen import Johansen\n",
    "import itertools\n",
    "\n",
    "import datetime as dt\n",
    "\n",
    "#%matplotlib inline\n",
    "plt.style.use('ggplot')"
   ]
  },
  {
   "cell_type": "code",
   "execution_count": 21,
   "metadata": {},
   "outputs": [],
   "source": [
    "min_perday=1380"
   ]
  },
  {
   "cell_type": "markdown",
   "metadata": {},
   "source": [
    "# Data"
   ]
  },
  {
   "cell_type": "code",
   "execution_count": 22,
   "metadata": {},
   "outputs": [],
   "source": [
    "import os\n",
    "os.chdir('C:\\\\Users\\\\lin\\\\OneDrive\\\\practium\\\\23_hour')"
   ]
  },
  {
   "cell_type": "code",
   "execution_count": 23,
   "metadata": {
    "ExecuteTime": {
     "end_time": "2018-10-15T01:08:16.763304Z",
     "start_time": "2018-10-15T01:08:16.369719Z"
    }
   },
   "outputs": [],
   "source": [
    "#               UTB,       TB,        U10y,      10y,       5y,        2y\n",
    "bonds =        ['UB',      'ZB',      'TN',       'ZN',     'ZF',      'ZT']\n",
    "tick_sizes =   [0.03125,   0.03125,   0.015625,   0.015625, 0.0078125, 0.0078125]\n",
    "point_values = [1000,      1000,      1000,       1000,     1000,      2000]\n",
    "maturities = ['8U']\n",
    "maturities_ss = ['U8'] # strategy_studio convention\n",
    "file_suffix = '.pik'\n",
    "series_suffix = '_mid'\n",
    "contract_srt = '2018-06-01'\n",
    "contract_end = '2018-09-01'\n",
    "\n",
    "#dont forget set up file path lul\n",
    "\n",
    "\n",
    "#data_path = '../Data/'+str(mins_per_day)+'/'\n",
    "#data_path = '../Data/'\n",
    "\n",
    "assets = [''.join(x) for x in itertools.product(bonds,maturities)]\n",
    "\n",
    "dfs = []\n",
    "for a in assets:\n",
    "    dfs.append(pd.read_pickle(a+file_suffix)[a+series_suffix])\n",
    "df = pd.concat(dfs, axis=1)\n",
    "\n",
    "# match different periods\n",
    "df = df.dropna()\n",
    "    \n",
    "# ignore the first and last few days\n",
    "#df = df.iloc[390*start_ignore:-390*end_engore]\n",
    "    \n",
    "# ignore the beginning and end of contract\n",
    "df['shifted_trading_time'] = df.index.tz_convert('Etc/GMT-2')\n",
    "df = df[(df['shifted_trading_time'] >= contract_srt) & (df['shifted_trading_time'] < contract_end)]\n",
    "\n",
    "# drop weekends\n",
    "df = df.loc[df['shifted_trading_time'].dt.weekday<5]   \n",
    "df = df.drop('shifted_trading_time',axis=1)\n",
    "\n",
    "#** for strategy studio\n",
    "assets = [''.join(x) for x in itertools.product(bonds,maturities_ss)]\n",
    "\n",
    "# name columns\n",
    "df.columns = assets"
   ]
  },
  {
   "cell_type": "code",
   "execution_count": 24,
   "metadata": {},
   "outputs": [],
   "source": [
    "#deal with data issue\n",
    "df.loc['2018-08-29 17:00:00']['UBU8'] = 158.671875\n",
    "df.loc['2018-08-29 17:00:00']['ZFU8'] = 113.394531"
   ]
  },
  {
   "cell_type": "code",
   "execution_count": 25,
   "metadata": {
    "ExecuteTime": {
     "end_time": "2018-10-15T01:08:17.594643Z",
     "start_time": "2018-10-15T01:08:17.528152Z"
    }
   },
   "outputs": [],
   "source": [
    "train_template = df.copy()\n",
    "#if len(train_template.loc[train_template.iloc[-1].name.date():]) < min_perday:        # if the last day is not complete\n",
    "#    last_index = dt.datetime.combine(train_template.iloc[-1].name.date(),dt.time(0,0))-dt.timedelta(minutes=1)\n",
    "#    train_template = train_template.loc[:last_index]  # take data until the last day   \n",
    "#if len(train_template.loc[:train_template.iloc[min_perday].name.date()]) < min_perday:       # if the first day is not complete\n",
    "#    train_template = train_template.loc[train_template.iloc[min_perday].name.date():] # take data from the next day\n",
    "#train_template.columns = assets\n",
    "#train_template = train_template.iloc[min_perday*14:-min_perday*14]  # ignore the first and last two weeks\n",
    "train_template = train_template*point_values\n",
    "weights = train_template.columns+'_weight'\n",
    "for w in weights:\n",
    "    train_template[w] = np.nan\n",
    "train_template['trading_idx'] = np.nan\n",
    "train_template['portfolio'] = np.nan\n",
    "train_template['mu'] = np.nan\n",
    "train_template['sigma'] = np.nan"
   ]
  },
  {
   "cell_type": "code",
   "execution_count": 26,
   "metadata": {
    "ExecuteTime": {
     "end_time": "2018-10-15T01:08:30.275862Z",
     "start_time": "2018-10-15T01:08:30.267572Z"
    }
   },
   "outputs": [
    {
     "data": {
      "text/plain": [
       "66.0"
      ]
     },
     "execution_count": 26,
     "metadata": {},
     "output_type": "execute_result"
    }
   ],
   "source": [
    "len(train_template)/min_perday"
   ]
  },
  {
   "cell_type": "markdown",
   "metadata": {},
   "source": [
    "# Parameter"
   ]
  },
  {
   "cell_type": "code",
   "execution_count": 27,
   "metadata": {
    "ExecuteTime": {
     "end_time": "2018-10-15T01:10:05.184250Z",
     "start_time": "2018-10-15T01:10:05.178530Z"
    }
   },
   "outputs": [],
   "source": [
    "#change our value here!\n",
    "use_optimized_parameters = True\n",
    "op_fitting_days = 20\n",
    "op_exit_threshold = 0\n",
    "op_increment = 1.75\n",
    "op_trading_days = 14"
   ]
  },
  {
   "cell_type": "code",
   "execution_count": 37,
   "metadata": {
    "ExecuteTime": {
     "end_time": "2018-10-15T01:10:06.107628Z",
     "start_time": "2018-10-15T01:10:05.890842Z"
    }
   },
   "outputs": [],
   "source": [
    "#leave this part fixed\n",
    "def fit(data):\n",
    "    x = data.values\n",
    "    x_centered = x - np.mean(x, axis=0)\n",
    "    johansen = Johansen(x_centered, model=2, significance_level=0)\n",
    "    eigenvectors, r = johansen.johansen()\n",
    "    #print('rejected r values are: {}'.format(r))\n",
    "    vec = eigenvectors[:, 0]\n",
    "    vec_min = np.min(np.abs(vec))\n",
    "    vec = vec / vec_min\n",
    "    #print('The first cointegrating relation: {}'.format(vec))\n",
    "    return vec    \n",
    "\n",
    "\n",
    "def apply_strategy(train):\n",
    "    \n",
    "    # get thresholds\n",
    "    round_trip_cost = (np.array(tick_sizes)*np.array(point_values)*abs(train[weights])).sum(axis=1)\n",
    "    min_increment = round_trip_cost/train['sigma']\n",
    "    entry_threshold = exit_threshold+min_increment+increment\n",
    "    train['entry_threshold'] = entry_threshold\n",
    "    \n",
    "    train['position'] = np.nan\n",
    "    train['l_position'] = np.nan\n",
    "    train['s_position'] = np.nan\n",
    "\n",
    "    # record position changes\n",
    "    train['s_position'].loc[train['portfolio'] > (train['mu'] + entry_threshold*train['sigma'])] = -1\n",
    "    train['s_position'].loc[train['portfolio'] < (train['mu'] + exit_threshold*train['sigma'])] = 0\n",
    "\n",
    "    train['l_position'].loc[train['portfolio'] < (train['mu'] - entry_threshold*train['sigma'])] = 1\n",
    "    train['l_position'].loc[train['portfolio'] > (train['mu'] - exit_threshold*train['sigma'])] = 0\n",
    "\n",
    "\n",
    "    # portfolio is flat at beginning of test period\n",
    "    train['s_position'].iloc[0] = 0\n",
    "    train['l_position'].iloc[0] = 0\n",
    "    # flatten portfolio at end of each trading period\n",
    "    #train['s_position'].loc[train.trading_idx.diff(-1) != 0] = 0\n",
    "    #train['l_position'].loc[train.trading_idx.diff(-1) != 0] = 0\n",
    "    # flatten portfolio at end\n",
    "    train['s_position'].iloc[-1] = 0\n",
    "    train['l_position'].iloc[-1] = 0\n",
    "    # forward fill positions\n",
    "    train['s_position'] = train['s_position'].ffill()\n",
    "    train['l_position'] = train['l_position'].ffill()\n",
    "\n",
    "    # sum positions\n",
    "    train['position'] = train['l_position'] + train['s_position']\n",
    "\n",
    "    # extract trades\n",
    "    train['trade'] = train['position'].diff(1)\n",
    "    \n",
    "    return train\n",
    "\n",
    "\n",
    "def calc_pnl(round_trips):\n",
    "    pnls = round_trips[assets]\n",
    "    # adjust price changes for trade signal\n",
    "    pnls = pnls.multiply(np.sign(round_trips[weights].values), axis=0)\n",
    "    pnls = pnls.multiply(-np.sign(round_trips['position'].values), axis=0)\n",
    "    # account for crossing the spread\n",
    "    pnls = pnls - np.array(tick_sizes)*np.array(point_values)\n",
    "    # apply contract weights\n",
    "    pnls = pnls * np.abs(round_trips[weights].values)\n",
    "    return pnls"
   ]
  },
  {
   "cell_type": "markdown",
   "metadata": {},
   "source": [
    "## my change is located here"
   ]
  },
  {
   "cell_type": "code",
   "execution_count": 38,
   "metadata": {},
   "outputs": [],
   "source": [
    "#rebalance parameters\n",
    "assets_point=[]\n",
    "for i in assets:\n",
    "    assets_point.append(i+'_point')"
   ]
  },
  {
   "cell_type": "code",
   "execution_count": 39,
   "metadata": {},
   "outputs": [],
   "source": [
    "def getrebalance(train):\n",
    "    #this function generates the \n",
    "    train['isrebalance_temp']=np.zeros(len(train))\n",
    "    #past code of force closing from zehua\n",
    "    train['isrebalance_temp'].loc[train.trading_idx.diff(-1) != 0]=1 # get the last min of a trading period\n",
    "    #train['isrebalance_temp'].loc[train.trading_idx.diff(1) != 0]=1 # get the first min of each trading period\n",
    "    #rebalance only if the position is not 0 here\n",
    "    #we use abs in case of -1 position\n",
    "    train['isrebalance']=np.abs(train['position'].values*train['isrebalance_temp'].values)\n",
    "    #assets_point are just notation, defined above\n",
    "    for i in range(6):\n",
    "        train[assets_point[i]]=train[assets[i]].values*train[weights[i]].values\n",
    "    #we use this code because there is absolutely no two isrebalance in a row, as trading period is at least one day\n",
    "    #but our training session (I mean price gap) is minute by minute\n",
    "    train['rebalance']=train['isrebalance'].diff(1)\n",
    "    return train\n",
    "\n",
    "def rebalance_cost(rebalance):\n",
    "    #calculate the cost and record rebalance case\n",
    "    #return a dataframe\n",
    "    #we could cut off rebalance cost independently, as in the case of rebalance, there must no transcation recorded at 'positioin'\n",
    "    \n",
    "    rebalance_round= rebalance.iloc[1::2].reset_index() - rebalance.iloc[::2].reset_index()\n",
    "    rebalance_round[weights] = rebalance[weights].iloc[1::2].reset_index(drop=True)\n",
    "    rebalance_round=rebalance_round.dropna()\n",
    "    rebalance_round=rebalance_round.loc[np.abs(rebalance_round[weights].values).sum(axis=1)<600]\n",
    "    #here, we only consider the case that position remains equal and position !=0 for before and after trading index\n",
    "    \n",
    "    rebalance_round=rebalance_round.loc[rebalance_round['position']==0]\n",
    "    pnl_rebalance=rebalance_round[assets_point]\n",
    "    #pnl_rebalance = pnl_rebalance.multiply(np.sign(rebalance_round[weights].values), axis=0)\n",
    "    #pnl_rebalance = pnl_rebalance.multiply(-rebalance_round['position'].values, axis=0)\n",
    "    # account for crossing the spread\n",
    "    pnl_rebalance = pnl_rebalance - (rebalance_round[weights].values)*np.array(tick_sizes)*np.array(point_values)\n",
    "    # apply contract weights\n",
    "    #pnl_rebalance = pnl_rebalance * np.abs(rebalance_round[weights].values)\n",
    "    return pnl_rebalance\n",
    "    \n",
    "    \n"
   ]
  },
  {
   "cell_type": "code",
   "execution_count": null,
   "metadata": {},
   "outputs": [],
   "source": []
  },
  {
   "cell_type": "raw",
   "metadata": {},
   "source": [
    "#test\n",
    "rebalance_round= rebalance_form.iloc[1::2].reset_index() - rebalance_form.iloc[::2].reset_index()"
   ]
  },
  {
   "cell_type": "raw",
   "metadata": {},
   "source": [
    "rebalance_round\n",
    "pnl_rebalance=rebalance_round[assets_point]\n",
    "#pnl_rebalance = pnl_rebalance - np.array(tick_sizes)*np.array(point_values)*(rebalance_round[weights].values)\n",
    "#pnl_rebalance = pnl_rebalance.multiply(np.sign(rebalance_round[weights].values), axis=0)"
   ]
  },
  {
   "cell_type": "code",
   "execution_count": 40,
   "metadata": {},
   "outputs": [],
   "source": [
    "#np.array(tick_sizes)*np.array(point_values)*(rebalance_round[weights].values)"
   ]
  },
  {
   "cell_type": "code",
   "execution_count": 41,
   "metadata": {},
   "outputs": [],
   "source": [
    "#pnl_rebalance"
   ]
  },
  {
   "cell_type": "markdown",
   "metadata": {},
   "source": [
    "## I got no idea here, it seems that the time choosing term got a little bit problem?\n",
    "## there shall be a little bug, plz check it if you figure out\n",
    "## It seems that I figure it out? (02.15 am)"
   ]
  },
  {
   "cell_type": "code",
   "execution_count": 42,
   "metadata": {},
   "outputs": [],
   "source": [
    "#rebalance_round[weights]\n",
    "\n"
   ]
  },
  {
   "cell_type": "code",
   "execution_count": null,
   "metadata": {},
   "outputs": [],
   "source": []
  },
  {
   "cell_type": "code",
   "execution_count": 43,
   "metadata": {
    "ExecuteTime": {
     "end_time": "2018-10-15T01:12:32.646751Z",
     "start_time": "2018-10-15T01:12:32.632568Z"
    }
   },
   "outputs": [],
   "source": [
    "# set parameters:\n",
    "if use_optimized_parameters:\n",
    "    fitting_days_range = [op_fitting_days]\n",
    "    exit_threshold_range = [op_exit_threshold]\n",
    "    increment_range = [op_increment]\n",
    "else:\n",
    "    fitting_days_range = range(5,25,5)\n",
    "    exit_threshold_range = np.arange(0,1,0.25)\n",
    "    increment_range = np.arange(0,4,0.25)"
   ]
  },
  {
   "cell_type": "code",
   "execution_count": 44,
   "metadata": {},
   "outputs": [],
   "source": [
    "#set(train['trading_idx'])"
   ]
  },
  {
   "cell_type": "markdown",
   "metadata": {},
   "source": [
    "## A little bit change here, ask me if interested\n",
    "## I hope no bug this time"
   ]
  },
  {
   "cell_type": "code",
   "execution_count": 45,
   "metadata": {
    "ExecuteTime": {
     "end_time": "2018-10-15T01:12:33.807689Z",
     "start_time": "2018-10-15T01:12:33.414676Z"
    }
   },
   "outputs": [],
   "source": [
    "pnlrecord=[]#record PnL\n",
    "parameters=[]\n",
    "stop_sign=500 # value for stop trading if the 1 dim norm of weights too large, larger than stop_sign\n",
    "for fitting_days in fitting_days_range:\n",
    "    if use_optimized_parameters:\n",
    "        trading_days_range = [op_trading_days]\n",
    "    else:\n",
    "        trading_days_range = range(1,fitting_days)\n",
    "        \n",
    "    for trading_days in trading_days_range:\n",
    "        train = train_template.copy()\n",
    "    \n",
    "        trade_period = min_perday*trading_days\n",
    "        fit_period = min_perday*fitting_days\n",
    "        padding = min_perday*fitting_days\n",
    "        num_periods = (len(train)-padding)//trade_period\n",
    "        \n",
    "    \n",
    "        # training\n",
    "        for i in range(num_periods):\n",
    "            trading_start =  (padding + i     * trade_period)\n",
    "            trading_end =    (padding + (i+1) * trade_period)\n",
    "            fitting_start = trading_start-fit_period\n",
    "            fitting_end =   trading_start\n",
    "        \n",
    "            train['trading_idx'].iloc[trading_start:trading_end] = i\n",
    "            fit_data = train.iloc[fitting_start:fitting_end]\n",
    "            \n",
    "            coint_vec = fit(fit_data[assets])\n",
    "            fit_portfolio = np.dot(fit_data[assets].values, coint_vec)\n",
    "            #print(coint_vec)\n",
    "            \n",
    "            for j in range(len(coint_vec)):\n",
    "                train[weights[j]][train.trading_idx == i] = coint_vec[j]\n",
    "            \n",
    "            train['mu'][train.trading_idx == i] = fit_portfolio.mean()\n",
    "            train['sigma'][train.trading_idx == i] = fit_portfolio.std()\n",
    "            train['portfolio'][train.trading_idx == i] = np.dot(train[train.trading_idx == i][assets].values, coint_vec)\n",
    "            \n",
    "        train.dropna(subset=['trading_idx'],inplace=True)\n",
    "        \n",
    "        # formulate and apply strategy\n",
    "        for exit_threshold in exit_threshold_range:\n",
    "            for increment in increment_range:    \n",
    "                \n",
    "                apply_strategy(train)\n",
    "                \n",
    "                # find trades\n",
    "                trades = train.loc[train['trade'] != 0].dropna(subset=['trade'])\n",
    "                trades.reset_index(inplace=True)\n",
    "                # seperate trades where holding positions jumped\n",
    "                trades = trades.loc[trades.index.repeat(abs(trades['trade']).astype(int))].reset_index(drop=False)\n",
    "                \n",
    "                #I changed this part, but not sure\n",
    "                #I am idiot\n",
    "                #if the sum of the abs value of weights(first order norm of weights) outperforms stop_sign, we drop this term \n",
    "                trades['temp_value']=np.abs(trades[weights].values).sum(axis=1)\n",
    "                #trades['position'].loc[trades['temp_value']>stop_sign]=0\n",
    "                trades=trades.loc[trades['temp_value']<stop_sign]\n",
    "                trades_temp=trades.copy()\n",
    "\n",
    "                # get round trips\n",
    "                round_trips = trades_temp.iloc[1::2].reset_index() - trades_temp.iloc[::2].reset_index()\n",
    "                round_trips[weights] = trades[weights].iloc[::2].reset_index(drop=True)\n",
    "                round_trips=round_trips.dropna()\n",
    "                #round_trips.drop([round_trips.loc[sum(np.abs(round_trips[weights].values))>stop_sign].index])\n",
    "                \n",
    "                pnls = calc_pnl(round_trips)\n",
    "                \n",
    "                parameters.append([fitting_days,trading_days,exit_threshold,increment,num_periods])\n",
    "                result=pnls.sum(axis=1).to_frame('pnl')\n",
    "                result['holding_period'] = round_trips['timestamp']\n",
    "                result['trading_total_pos'] = abs(round_trips[weights]).sum(axis=1)\n",
    "                result['trading_net_pos'] = round_trips[weights].sum(axis=1)\n",
    "                result['abnormal_close'] = ((trades_temp['position'] == 0) & ((trades_temp['trade']==1)&(trades_temp['portfolio'] - trades_temp['mu'] > trades_temp['sigma']*exit_threshold) | (trades_temp['trade']==-1)&(trades_temp['portfolio'] - trades_temp['mu'] < trades_temp['sigma']*exit_threshold))).iloc[1::2].reset_index(drop=True)\n",
    "                pnlrecord.append(result)\n",
    "                          "
   ]
  },
  {
   "cell_type": "markdown",
   "metadata": {},
   "source": [
    "## running for the rebalance here\n",
    "## A bug triggered which I am not sure how to figure it out\n",
    "## (or just coincidence?)\n",
    "## plz tell me if you found problem"
   ]
  },
  {
   "cell_type": "code",
   "execution_count": 46,
   "metadata": {},
   "outputs": [
    {
     "data": {
      "text/html": [
       "<div>\n",
       "<style scoped>\n",
       "    .dataframe tbody tr th:only-of-type {\n",
       "        vertical-align: middle;\n",
       "    }\n",
       "\n",
       "    .dataframe tbody tr th {\n",
       "        vertical-align: top;\n",
       "    }\n",
       "\n",
       "    .dataframe thead th {\n",
       "        text-align: right;\n",
       "    }\n",
       "</style>\n",
       "<table border=\"1\" class=\"dataframe\">\n",
       "  <thead>\n",
       "    <tr style=\"text-align: right;\">\n",
       "      <th></th>\n",
       "      <th>UBU8_point</th>\n",
       "      <th>ZBU8_point</th>\n",
       "      <th>TNU8_point</th>\n",
       "      <th>ZNU8_point</th>\n",
       "      <th>ZFU8_point</th>\n",
       "      <th>ZTU8_point</th>\n",
       "    </tr>\n",
       "  </thead>\n",
       "  <tbody>\n",
       "  </tbody>\n",
       "</table>\n",
       "</div>"
      ],
      "text/plain": [
       "Empty DataFrame\n",
       "Columns: [UBU8_point, ZBU8_point, TNU8_point, ZNU8_point, ZFU8_point, ZTU8_point]\n",
       "Index: []"
      ]
     },
     "execution_count": 46,
     "metadata": {},
     "output_type": "execute_result"
    }
   ],
   "source": [
    "getrebalance(train)\n",
    "rebalance_form=train.loc[train['rebalance']!=0].dropna(subset=['rebalance'])\n",
    "lullin=rebalance_cost(rebalance_form)\n",
    "lullin"
   ]
  },
  {
   "cell_type": "code",
   "execution_count": 47,
   "metadata": {},
   "outputs": [
    {
     "data": {
      "text/html": [
       "<div>\n",
       "<style scoped>\n",
       "    .dataframe tbody tr th:only-of-type {\n",
       "        vertical-align: middle;\n",
       "    }\n",
       "\n",
       "    .dataframe tbody tr th {\n",
       "        vertical-align: top;\n",
       "    }\n",
       "\n",
       "    .dataframe thead th {\n",
       "        text-align: right;\n",
       "    }\n",
       "</style>\n",
       "<table border=\"1\" class=\"dataframe\">\n",
       "  <thead>\n",
       "    <tr style=\"text-align: right;\">\n",
       "      <th></th>\n",
       "      <th>index</th>\n",
       "      <th>timestamp</th>\n",
       "      <th>UBU8</th>\n",
       "      <th>ZBU8</th>\n",
       "      <th>TNU8</th>\n",
       "      <th>ZNU8</th>\n",
       "      <th>ZFU8</th>\n",
       "      <th>ZTU8</th>\n",
       "      <th>UBU8_weight</th>\n",
       "      <th>ZBU8_weight</th>\n",
       "      <th>...</th>\n",
       "      <th>trading_idx</th>\n",
       "      <th>portfolio</th>\n",
       "      <th>mu</th>\n",
       "      <th>sigma</th>\n",
       "      <th>entry_threshold</th>\n",
       "      <th>position</th>\n",
       "      <th>l_position</th>\n",
       "      <th>s_position</th>\n",
       "      <th>trade</th>\n",
       "      <th>temp_value</th>\n",
       "    </tr>\n",
       "  </thead>\n",
       "  <tbody>\n",
       "    <tr>\n",
       "      <th>0</th>\n",
       "      <td>0</td>\n",
       "      <td>2018-07-05 09:48:00-05:00</td>\n",
       "      <td>160359.375</td>\n",
       "      <td>145546.875</td>\n",
       "      <td>128414.0625</td>\n",
       "      <td>120320.3125</td>\n",
       "      <td>113605.46875</td>\n",
       "      <td>211757.8125</td>\n",
       "      <td>-1.000000</td>\n",
       "      <td>-1.546695</td>\n",
       "      <td>...</td>\n",
       "      <td>0.0</td>\n",
       "      <td>575009.686317</td>\n",
       "      <td>576449.507366</td>\n",
       "      <td>274.663897</td>\n",
       "      <td>5.093891</td>\n",
       "      <td>1.0</td>\n",
       "      <td>1.0</td>\n",
       "      <td>0.0</td>\n",
       "      <td>1.0</td>\n",
       "      <td>60.788844</td>\n",
       "    </tr>\n",
       "    <tr>\n",
       "      <th>6</th>\n",
       "      <td>6</td>\n",
       "      <td>2018-08-10 09:48:00-05:00</td>\n",
       "      <td>158109.375</td>\n",
       "      <td>144046.875</td>\n",
       "      <td>127929.6875</td>\n",
       "      <td>120148.4375</td>\n",
       "      <td>113566.40625</td>\n",
       "      <td>211648.4375</td>\n",
       "      <td>-1.943495</td>\n",
       "      <td>3.321928</td>\n",
       "      <td>...</td>\n",
       "      <td>2.0</td>\n",
       "      <td>-87904.850966</td>\n",
       "      <td>-86990.818126</td>\n",
       "      <td>147.200981</td>\n",
       "      <td>5.687685</td>\n",
       "      <td>1.0</td>\n",
       "      <td>1.0</td>\n",
       "      <td>0.0</td>\n",
       "      <td>1.0</td>\n",
       "      <td>35.801116</td>\n",
       "    </tr>\n",
       "    <tr>\n",
       "      <th>7</th>\n",
       "      <td>7</td>\n",
       "      <td>2018-08-13 14:24:00-05:00</td>\n",
       "      <td>158078.125</td>\n",
       "      <td>144328.125</td>\n",
       "      <td>128054.6875</td>\n",
       "      <td>120242.1875</td>\n",
       "      <td>113628.90625</td>\n",
       "      <td>211648.4375</td>\n",
       "      <td>-1.943495</td>\n",
       "      <td>3.321928</td>\n",
       "      <td>...</td>\n",
       "      <td>2.0</td>\n",
       "      <td>-86987.230901</td>\n",
       "      <td>-86990.818126</td>\n",
       "      <td>147.200981</td>\n",
       "      <td>5.687685</td>\n",
       "      <td>0.0</td>\n",
       "      <td>0.0</td>\n",
       "      <td>0.0</td>\n",
       "      <td>-1.0</td>\n",
       "      <td>35.801116</td>\n",
       "    </tr>\n",
       "  </tbody>\n",
       "</table>\n",
       "<p>3 rows × 24 columns</p>\n",
       "</div>"
      ],
      "text/plain": [
       "   index                 timestamp        UBU8        ZBU8         TNU8  \\\n",
       "0      0 2018-07-05 09:48:00-05:00  160359.375  145546.875  128414.0625   \n",
       "6      6 2018-08-10 09:48:00-05:00  158109.375  144046.875  127929.6875   \n",
       "7      7 2018-08-13 14:24:00-05:00  158078.125  144328.125  128054.6875   \n",
       "\n",
       "          ZNU8          ZFU8         ZTU8  UBU8_weight  ZBU8_weight  \\\n",
       "0  120320.3125  113605.46875  211757.8125    -1.000000    -1.546695   \n",
       "6  120148.4375  113566.40625  211648.4375    -1.943495     3.321928   \n",
       "7  120242.1875  113628.90625  211648.4375    -1.943495     3.321928   \n",
       "\n",
       "      ...      trading_idx      portfolio             mu       sigma  \\\n",
       "0     ...              0.0  575009.686317  576449.507366  274.663897   \n",
       "6     ...              2.0  -87904.850966  -86990.818126  147.200981   \n",
       "7     ...              2.0  -86987.230901  -86990.818126  147.200981   \n",
       "\n",
       "   entry_threshold  position  l_position  s_position  trade  temp_value  \n",
       "0         5.093891       1.0         1.0         0.0    1.0   60.788844  \n",
       "6         5.687685       1.0         1.0         0.0    1.0   35.801116  \n",
       "7         5.687685       0.0         0.0         0.0   -1.0   35.801116  \n",
       "\n",
       "[3 rows x 24 columns]"
      ]
     },
     "execution_count": 47,
     "metadata": {},
     "output_type": "execute_result"
    }
   ],
   "source": [
    "trades"
   ]
  },
  {
   "cell_type": "code",
   "execution_count": 48,
   "metadata": {},
   "outputs": [
    {
     "data": {
      "text/plain": [
       "timestamp\n",
       "2018-07-18 15:59:00-05:00    1.0\n",
       "2018-07-18 17:00:00-05:00    0.0\n",
       "Name: position, dtype: float64"
      ]
     },
     "execution_count": 48,
     "metadata": {},
     "output_type": "execute_result"
    }
   ],
   "source": [
    "rebalance_form['position']"
   ]
  },
  {
   "cell_type": "code",
   "execution_count": 49,
   "metadata": {},
   "outputs": [],
   "source": [
    "#train.loc['2018-08-26 17:00:00-05:00']"
   ]
  },
  {
   "cell_type": "code",
   "execution_count": 50,
   "metadata": {},
   "outputs": [],
   "source": [
    "#rebalance_form[1::2]\n",
    "#round_temp=rebalance_form[1::2].reset_index()-rebalance_form[::2].reset_index()\n",
    "#round_temp.loc[round_temp['position']==0]"
   ]
  },
  {
   "cell_type": "code",
   "execution_count": 51,
   "metadata": {},
   "outputs": [],
   "source": [
    "#pnlaaa=rebalance_cost(rebalance_form)"
   ]
  },
  {
   "cell_type": "code",
   "execution_count": 52,
   "metadata": {},
   "outputs": [],
   "source": [
    "#pnlaaa"
   ]
  },
  {
   "cell_type": "code",
   "execution_count": 53,
   "metadata": {},
   "outputs": [],
   "source": [
    "#rebalance_form[weights]"
   ]
  },
  {
   "cell_type": "code",
   "execution_count": 54,
   "metadata": {},
   "outputs": [],
   "source": [
    "#assets_point"
   ]
  },
  {
   "cell_type": "code",
   "execution_count": 55,
   "metadata": {},
   "outputs": [],
   "source": [
    "#rebalanceaaaaa=rebalance_cost(rebalance_form)"
   ]
  },
  {
   "cell_type": "code",
   "execution_count": 56,
   "metadata": {},
   "outputs": [],
   "source": [
    "#train.iloc[1380]"
   ]
  },
  {
   "cell_type": "code",
   "execution_count": 57,
   "metadata": {
    "ExecuteTime": {
     "end_time": "2018-10-15T01:12:36.890998Z",
     "start_time": "2018-10-15T01:12:36.866055Z"
    }
   },
   "outputs": [
    {
     "name": "stdout",
     "output_type": "stream",
     "text": [
      "          pnl holding_period  trading_total_pos  trading_net_pos  \\\n",
      "0 -918.446132        36 days          60.788844         2.290757   \n",
      "\n",
      "   abnormal_close  \n",
      "0           False  \n",
      "[20, 14, 0, 1.75, 3]\n",
      "[-21.86776505]\n"
     ]
    }
   ],
   "source": [
    "daily_profit=np.zeros([len(pnlrecord),1])               \n",
    "for i in range(len(pnlrecord)):\n",
    "    daily_profit[i]=pnlrecord[i]['pnl'].sum()/parameters[i][1]/parameters[i][4]\n",
    "maximum=np.max(daily_profit)\n",
    "idx=daily_profit.argmax()\n",
    "#[best_parameterfitting_days,trading_days,exit_threshold,op_increment,num_preiods]\n",
    "best_parameter=parameters[idx]\n",
    "print(pnlrecord[idx])\n",
    "print(best_parameter)\n",
    "print(max(daily_profit))"
   ]
  },
  {
   "cell_type": "code",
   "execution_count": 58,
   "metadata": {},
   "outputs": [
    {
     "data": {
      "text/html": [
       "<div>\n",
       "<style scoped>\n",
       "    .dataframe tbody tr th:only-of-type {\n",
       "        vertical-align: middle;\n",
       "    }\n",
       "\n",
       "    .dataframe tbody tr th {\n",
       "        vertical-align: top;\n",
       "    }\n",
       "\n",
       "    .dataframe thead th {\n",
       "        text-align: right;\n",
       "    }\n",
       "</style>\n",
       "<table border=\"1\" class=\"dataframe\">\n",
       "  <thead>\n",
       "    <tr style=\"text-align: right;\">\n",
       "      <th></th>\n",
       "      <th>pnl</th>\n",
       "      <th>holding_period</th>\n",
       "      <th>trading_total_pos</th>\n",
       "      <th>trading_net_pos</th>\n",
       "      <th>abnormal_close</th>\n",
       "    </tr>\n",
       "  </thead>\n",
       "  <tbody>\n",
       "    <tr>\n",
       "      <th>0</th>\n",
       "      <td>-918.446132</td>\n",
       "      <td>36 days</td>\n",
       "      <td>60.788844</td>\n",
       "      <td>2.290757</td>\n",
       "      <td>False</td>\n",
       "    </tr>\n",
       "  </tbody>\n",
       "</table>\n",
       "</div>"
      ],
      "text/plain": [
       "          pnl holding_period  trading_total_pos  trading_net_pos  \\\n",
       "0 -918.446132        36 days          60.788844         2.290757   \n",
       "\n",
       "   abnormal_close  \n",
       "0           False  "
      ]
     },
     "metadata": {},
     "output_type": "display_data"
    },
    {
     "data": {
      "text/plain": [
       "-21.86776504809534"
      ]
     },
     "execution_count": 58,
     "metadata": {},
     "output_type": "execute_result"
    }
   ],
   "source": [
    "display(pnlrecord[idx])\n",
    "daily_profit.sum()"
   ]
  },
  {
   "cell_type": "markdown",
   "metadata": {},
   "source": [
    "## not sure value plot here"
   ]
  },
  {
   "cell_type": "code",
   "execution_count": 25,
   "metadata": {
    "ExecuteTime": {
     "end_time": "2018-10-15T01:12:42.890781Z",
     "start_time": "2018-10-15T01:12:42.853926Z"
    }
   },
   "outputs": [
    {
     "data": {
      "text/plain": [
       "<matplotlib.legend.Legend at 0x266ac9a9be0>"
      ]
     },
     "execution_count": 25,
     "metadata": {},
     "output_type": "execute_result"
    },
    {
     "data": {
      "image/png": "[encoded data removed]",
      "text/plain": [
       "<Figure size 432x288 with 1 Axes>"
      ]
     },
     "metadata": {
      "needs_background": "light"
     },
     "output_type": "display_data"
    },
    {
     "data": {
      "image/png": "[encoded data removed]",
      "text/plain": [
       "<Figure size 432x288 with 1 Axes>"
      ]
     },
     "metadata": {
      "needs_background": "light"
     },
     "output_type": "display_data"
    }
   ],
   "source": [
    "adjusted_weights = train[weights].multiply(np.sign(train[weights].iloc[:,0].values),axis=0)\n",
    "weights_daily = adjusted_weights.iloc[::1380,]\n",
    "weights_daily.plot()\n",
    "plt.legend(loc='center left',bbox_to_anchor=(1,0.5))\n",
    "weights_daily.diff().plot()\n",
    "plt.legend(loc='center left',bbox_to_anchor=(1,0.5))"
   ]
  },
  {
   "cell_type": "code",
   "execution_count": 26,
   "metadata": {},
   "outputs": [
    {
     "data": {
      "image/png": "[encoded data removed]",
      "text/plain": [
       "<Figure size 432x288 with 1 Axes>"
      ]
     },
     "metadata": {
      "needs_background": "light"
     },
     "output_type": "display_data"
    },
    {
     "name": "stdout",
     "output_type": "stream",
     "text": [
      "-108.86585989512534\n",
      "313.13928363079225\n"
     ]
    }
   ],
   "source": [
    "iter_column = 5\n",
    "plt.hist(weights_daily.iloc[:,iter_column],bins=50)\n",
    "plt.show()\n",
    "print(weights_daily.iloc[:,iter_column].mean())\n",
    "print(weights_daily.iloc[:,iter_column].std())"
   ]
  },
  {
   "cell_type": "code",
   "execution_count": 27,
   "metadata": {},
   "outputs": [
    {
     "data": {
      "text/plain": [
       "[<matplotlib.lines.Line2D at 0x266acfc2198>]"
      ]
     },
     "execution_count": 27,
     "metadata": {},
     "output_type": "execute_result"
    },
    {
     "data": {
      "image/png": "[encoded data removed]",
      "text/plain": [
       "<Figure size 432x288 with 1 Axes>"
      ]
     },
     "metadata": {
      "needs_background": "light"
     },
     "output_type": "display_data"
    }
   ],
   "source": [
    "s_t = min_perday*0\n",
    "e_t = min_perday*10\n",
    "train['portfolio'].iloc[s_t:e_t].plot()\n",
    "plt.plot((train.mu+train['entry_threshold']*train.sigma).iloc[s_t:e_t])\n",
    "plt.plot((train.mu).iloc[s_t:e_t])\n",
    "plt.plot((train.mu-train['entry_threshold']*train.sigma).iloc[s_t:e_t])"
   ]
  },
  {
   "cell_type": "code",
   "execution_count": 188,
   "metadata": {},
   "outputs": [],
   "source": [
    "#display(train)"
   ]
  },
  {
   "cell_type": "code",
   "execution_count": 29,
   "metadata": {},
   "outputs": [
    {
     "data": {
      "text/plain": [
       "'UBU8'"
      ]
     },
     "execution_count": 29,
     "metadata": {},
     "output_type": "execute_result"
    }
   ],
   "source": [
    "assets[0]"
   ]
  },
  {
   "cell_type": "code",
   "execution_count": 30,
   "metadata": {},
   "outputs": [
    {
     "data": {
      "text/plain": [
       "DatetimeIndex(['2018-06-14 17:00:00-05:00', '2018-06-17 17:00:00-05:00',\n",
       "               '2018-06-18 17:00:00-05:00', '2018-06-19 17:00:00-05:00',\n",
       "               '2018-06-20 17:00:00-05:00', '2018-06-21 17:00:00-05:00',\n",
       "               '2018-06-24 17:00:00-05:00', '2018-06-25 17:00:00-05:00',\n",
       "               '2018-06-26 17:00:00-05:00', '2018-06-27 17:00:00-05:00',\n",
       "               '2018-06-28 17:00:00-05:00', '2018-07-01 17:00:00-05:00',\n",
       "               '2018-07-02 17:00:00-05:00', '2018-07-03 17:00:00-05:00',\n",
       "               '2018-07-04 17:00:00-05:00', '2018-07-05 17:00:00-05:00',\n",
       "               '2018-07-08 17:00:00-05:00', '2018-07-09 17:00:00-05:00',\n",
       "               '2018-07-10 17:00:00-05:00', '2018-07-11 17:00:00-05:00',\n",
       "               '2018-07-12 17:00:00-05:00', '2018-07-15 17:00:00-05:00',\n",
       "               '2018-07-16 17:00:00-05:00', '2018-07-17 17:00:00-05:00',\n",
       "               '2018-07-18 17:00:00-05:00', '2018-07-19 17:00:00-05:00',\n",
       "               '2018-07-22 17:00:00-05:00', '2018-07-23 17:00:00-05:00',\n",
       "               '2018-07-24 17:00:00-05:00', '2018-07-25 17:00:00-05:00',\n",
       "               '2018-07-26 17:00:00-05:00', '2018-07-29 17:00:00-05:00',\n",
       "               '2018-07-30 17:00:00-05:00', '2018-07-31 17:00:00-05:00',\n",
       "               '2018-08-01 17:00:00-05:00', '2018-08-02 17:00:00-05:00',\n",
       "               '2018-08-05 17:00:00-05:00', '2018-08-06 17:00:00-05:00',\n",
       "               '2018-08-07 17:00:00-05:00', '2018-08-08 17:00:00-05:00',\n",
       "               '2018-08-09 17:00:00-05:00', '2018-08-12 17:00:00-05:00',\n",
       "               '2018-08-13 17:00:00-05:00', '2018-08-14 17:00:00-05:00',\n",
       "               '2018-08-15 17:00:00-05:00', '2018-08-16 17:00:00-05:00',\n",
       "               '2018-08-19 17:00:00-05:00', '2018-08-20 17:00:00-05:00',\n",
       "               '2018-08-21 17:00:00-05:00', '2018-08-22 17:00:00-05:00',\n",
       "               '2018-08-23 17:00:00-05:00', '2018-08-26 17:00:00-05:00',\n",
       "               '2018-08-27 17:00:00-05:00', '2018-08-28 17:00:00-05:00',\n",
       "               '2018-08-29 17:00:00-05:00'],\n",
       "              dtype='datetime64[ns, US/Central]', name='timestamp', freq=None)"
      ]
     },
     "execution_count": 30,
     "metadata": {},
     "output_type": "execute_result"
    }
   ],
   "source": [
    "train.index[0::1380]\n"
   ]
  },
  {
   "cell_type": "markdown",
   "metadata": {},
   "source": [
    "### output the parameter txt\n",
    "### I've already added the term that whether or not abnormal close in term of True or False\n",
    "### if you requires 0/1, just add a format casting (I mean, int()"
   ]
  },
  {
   "cell_type": "code",
   "execution_count": 205,
   "metadata": {},
   "outputs": [],
   "source": [
    "iterator_temp=0\n",
    "for row in train[::min_perday].iterrows():\n",
    "    #print(row[1].name.date()+dt.timedelta(days=1))\n",
    "    date = (row[1].name.date()+dt.timedelta(days=1))\n",
    "    print(date)\n",
    "    with open('{}.txt'.format(date),'w') as file:\n",
    "        file.write('signal_mean={}\\n'.format(row[1]['mu']))\n",
    "        file.write('signal_standard_deviation={}\\n'.format(row[1]['sigma']))\n",
    "        file.write('entry_threshold={}\\n'.format(row[1]['entry_threshold']))\n",
    "        file.write('exit_threshold={}\\n'.format(op_exit_threshold))\n",
    "        file.write('abnormal_close={}\\n'.format(int(iterator_temp%op_trading_days==0)))\n",
    "        iterator_temp+=1\n",
    "        #row_weights = row[1][weights]\n",
    "        #for i in range(len(row_weights)):\n",
    "         #   file.write('{}={}\\n'.format(assets[i],row_weights[i]))"
   ]
  },
  {
   "cell_type": "code",
   "execution_count": 42,
   "metadata": {},
   "outputs": [
    {
     "data": {
      "text/plain": [
       "(Timestamp('2018-08-29 17:00:00-0500', tz='US/Central'),\n",
       " UBU8               1.586719e+05\n",
       " ZBU8               1.445625e+05\n",
       " TNU8               1.279766e+05\n",
       " ZNU8               1.200781e+05\n",
       " ZFU8               1.133945e+05\n",
       " ZTU8               2.114297e+05\n",
       " UBU8_weight        7.305390e+00\n",
       " ZBU8_weight        3.528690e+02\n",
       " TNU8_weight        1.000000e+00\n",
       " ZNU8_weight       -2.521468e+03\n",
       " ZFU8_weight        3.499663e+03\n",
       " ZTU8_weight       -1.027203e+03\n",
       " trading_idx        1.000000e+01\n",
       " portfolio         -7.081311e+07\n",
       " mu                -7.076373e+07\n",
       " sigma              2.265986e+04\n",
       " entry_threshold    5.650961e+00\n",
       " position           0.000000e+00\n",
       " l_position         0.000000e+00\n",
       " s_position         0.000000e+00\n",
       " trade              0.000000e+00\n",
       " Name: 2018-08-29 17:00:00-05:00, dtype: float64)"
      ]
     },
     "execution_count": 42,
     "metadata": {},
     "output_type": "execute_result"
    }
   ],
   "source": [
    "row"
   ]
  }
 ],
 "metadata": {
  "kernelspec": {
   "display_name": "Python 3",
   "language": "python",
   "name": "python3"
  },
  "language_info": {
   "codemirror_mode": {
    "name": "ipython",
    "version": 3
   },
   "file_extension": ".py",
   "mimetype": "text/x-python",
   "name": "python",
   "nbconvert_exporter": "python",
   "pygments_lexer": "ipython3",
   "version": "3.6.5"
  },
  "varInspector": {
   "cols": {
    "lenName": 16,
    "lenType": 16,
    "lenVar": 40
   },
   "kernels_config": {
    "python": {
     "delete_cmd_postfix": "",
     "delete_cmd_prefix": "del ",
     "library": "var_list.py",
     "varRefreshCmd": "print(var_dic_list())"
    },
    "r": {
     "delete_cmd_postfix": ") ",
     "delete_cmd_prefix": "rm(",
     "library": "var_list.r",
     "varRefreshCmd": "cat(var_dic_list()) "
    }
   },
   "types_to_exclude": [
    "module",
    "function",
    "builtin_function_or_method",
    "instance",
    "_Feature"
   ],
   "window_display": false
  }
 },
 "nbformat": 4,
 "nbformat_minor": 2
}
