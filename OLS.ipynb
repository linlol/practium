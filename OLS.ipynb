{
 "cells": [
  {
   "cell_type": "code",
   "execution_count": 1,
   "metadata": {},
   "outputs": [],
   "source": [
    "import pandas as pd\n",
    "import numpy as np\n",
    "from numpy import cumsum, log, polyfit, sqrt, std, subtract\n",
    "from numpy.random import randn\n",
    "\n",
    "import matplotlib.pyplot as plt\n",
    "\n",
    "import statsmodels.tsa.stattools as ts\n",
    "from statsmodels.graphics.tsaplots import plot_acf\n",
    "from statsmodels.tsa.stattools import adfuller\n",
    "from johansen import Johansen\n",
    "import itertools\n",
    "import os\n",
    "\n",
    "#%matplotlib inline\n",
    "plt.style.use('seaborn-darkgrid')"
   ]
  },
  {
   "cell_type": "code",
   "execution_count": 2,
   "metadata": {},
   "outputs": [],
   "source": [
    "#               UTB,       TB,        U10y,      10y,       5y,        2y\n",
    "bonds =        ['UB',      'ZB',      'TN',       'ZN',     'ZF',      'ZT']\n",
    "tick_sizes =   [0.03125,   0.03125,   0.015625,   0.015625, 0.0078125, 0.0078125]\n",
    "point_values = [1000,      1000,      1000,       1000,     1000,      2000]\n"
   ]
  },
  {
   "cell_type": "code",
   "execution_count": 3,
   "metadata": {},
   "outputs": [],
   "source": [
    "train = pd.read_hdf('ALL.h5','table')"
   ]
  },
  {
   "cell_type": "code",
   "execution_count": 4,
   "metadata": {},
   "outputs": [
    {
     "data": {
      "text/html": [
       "<div>\n",
       "<style scoped>\n",
       "    .dataframe tbody tr th:only-of-type {\n",
       "        vertical-align: middle;\n",
       "    }\n",
       "\n",
       "    .dataframe tbody tr th {\n",
       "        vertical-align: top;\n",
       "    }\n",
       "\n",
       "    .dataframe thead th {\n",
       "        text-align: right;\n",
       "    }\n",
       "</style>\n",
       "<table border=\"1\" class=\"dataframe\">\n",
       "  <thead>\n",
       "    <tr style=\"text-align: right;\">\n",
       "      <th></th>\n",
       "      <th>UB</th>\n",
       "      <th>ZB</th>\n",
       "      <th>TN</th>\n",
       "      <th>ZN</th>\n",
       "      <th>ZF</th>\n",
       "      <th>ZT</th>\n",
       "    </tr>\n",
       "    <tr>\n",
       "      <th>timestamp</th>\n",
       "      <th></th>\n",
       "      <th></th>\n",
       "      <th></th>\n",
       "      <th></th>\n",
       "      <th></th>\n",
       "      <th></th>\n",
       "    </tr>\n",
       "  </thead>\n",
       "  <tbody>\n",
       "    <tr>\n",
       "      <th>2017-12-01 15:50:00-06:00</th>\n",
       "      <td>165.531250</td>\n",
       "      <td>151.296875</td>\n",
       "      <td>132.562500</td>\n",
       "      <td>123.492188</td>\n",
       "      <td>115.933594</td>\n",
       "      <td>106.828125</td>\n",
       "    </tr>\n",
       "    <tr>\n",
       "      <th>2017-12-01 15:51:00-06:00</th>\n",
       "      <td>165.515625</td>\n",
       "      <td>151.265625</td>\n",
       "      <td>132.562500</td>\n",
       "      <td>123.492188</td>\n",
       "      <td>115.933594</td>\n",
       "      <td>106.828125</td>\n",
       "    </tr>\n",
       "    <tr>\n",
       "      <th>2017-12-01 15:52:00-06:00</th>\n",
       "      <td>165.531250</td>\n",
       "      <td>151.296875</td>\n",
       "      <td>132.562500</td>\n",
       "      <td>123.507812</td>\n",
       "      <td>115.933594</td>\n",
       "      <td>106.828125</td>\n",
       "    </tr>\n",
       "    <tr>\n",
       "      <th>2017-12-01 15:53:00-06:00</th>\n",
       "      <td>165.531250</td>\n",
       "      <td>151.296875</td>\n",
       "      <td>132.562500</td>\n",
       "      <td>123.507812</td>\n",
       "      <td>115.933594</td>\n",
       "      <td>106.828125</td>\n",
       "    </tr>\n",
       "    <tr>\n",
       "      <th>2017-12-01 15:54:00-06:00</th>\n",
       "      <td>165.468750</td>\n",
       "      <td>151.265625</td>\n",
       "      <td>132.562500</td>\n",
       "      <td>123.492188</td>\n",
       "      <td>115.933594</td>\n",
       "      <td>106.828125</td>\n",
       "    </tr>\n",
       "    <tr>\n",
       "      <th>2017-12-01 15:55:00-06:00</th>\n",
       "      <td>165.468750</td>\n",
       "      <td>151.265625</td>\n",
       "      <td>132.546875</td>\n",
       "      <td>123.492188</td>\n",
       "      <td>115.933594</td>\n",
       "      <td>106.828125</td>\n",
       "    </tr>\n",
       "    <tr>\n",
       "      <th>2017-12-01 15:56:00-06:00</th>\n",
       "      <td>165.406250</td>\n",
       "      <td>151.234375</td>\n",
       "      <td>132.562500</td>\n",
       "      <td>123.492188</td>\n",
       "      <td>115.925781</td>\n",
       "      <td>106.828125</td>\n",
       "    </tr>\n",
       "    <tr>\n",
       "      <th>2017-12-01 15:57:00-06:00</th>\n",
       "      <td>165.453125</td>\n",
       "      <td>151.234375</td>\n",
       "      <td>132.562500</td>\n",
       "      <td>123.492188</td>\n",
       "      <td>115.933594</td>\n",
       "      <td>106.828125</td>\n",
       "    </tr>\n",
       "    <tr>\n",
       "      <th>2017-12-01 15:58:00-06:00</th>\n",
       "      <td>165.437500</td>\n",
       "      <td>151.265625</td>\n",
       "      <td>132.562500</td>\n",
       "      <td>123.492188</td>\n",
       "      <td>115.933594</td>\n",
       "      <td>106.828125</td>\n",
       "    </tr>\n",
       "    <tr>\n",
       "      <th>2017-12-01 15:59:00-06:00</th>\n",
       "      <td>165.437500</td>\n",
       "      <td>151.265625</td>\n",
       "      <td>132.562500</td>\n",
       "      <td>123.492188</td>\n",
       "      <td>115.941406</td>\n",
       "      <td>106.828125</td>\n",
       "    </tr>\n",
       "    <tr>\n",
       "      <th>2017-12-03 17:00:00-06:00</th>\n",
       "      <td>164.671875</td>\n",
       "      <td>150.593750</td>\n",
       "      <td>132.289062</td>\n",
       "      <td>123.062500</td>\n",
       "      <td>115.710938</td>\n",
       "      <td>106.796875</td>\n",
       "    </tr>\n",
       "    <tr>\n",
       "      <th>2017-12-03 17:01:00-06:00</th>\n",
       "      <td>164.109375</td>\n",
       "      <td>150.390625</td>\n",
       "      <td>131.992188</td>\n",
       "      <td>123.085938</td>\n",
       "      <td>115.695312</td>\n",
       "      <td>106.765625</td>\n",
       "    </tr>\n",
       "    <tr>\n",
       "      <th>2017-12-03 17:02:00-06:00</th>\n",
       "      <td>164.015625</td>\n",
       "      <td>150.328125</td>\n",
       "      <td>131.921875</td>\n",
       "      <td>123.054688</td>\n",
       "      <td>115.699219</td>\n",
       "      <td>106.761719</td>\n",
       "    </tr>\n",
       "    <tr>\n",
       "      <th>2017-12-03 17:03:00-06:00</th>\n",
       "      <td>164.093750</td>\n",
       "      <td>150.328125</td>\n",
       "      <td>131.937500</td>\n",
       "      <td>123.070312</td>\n",
       "      <td>115.707031</td>\n",
       "      <td>106.757812</td>\n",
       "    </tr>\n",
       "    <tr>\n",
       "      <th>2017-12-03 17:04:00-06:00</th>\n",
       "      <td>164.125000</td>\n",
       "      <td>150.328125</td>\n",
       "      <td>131.937500</td>\n",
       "      <td>123.070312</td>\n",
       "      <td>115.707031</td>\n",
       "      <td>106.765625</td>\n",
       "    </tr>\n",
       "    <tr>\n",
       "      <th>2017-12-03 17:05:00-06:00</th>\n",
       "      <td>164.171875</td>\n",
       "      <td>150.359375</td>\n",
       "      <td>131.937500</td>\n",
       "      <td>123.070312</td>\n",
       "      <td>115.699219</td>\n",
       "      <td>106.757812</td>\n",
       "    </tr>\n",
       "    <tr>\n",
       "      <th>2017-12-03 17:06:00-06:00</th>\n",
       "      <td>164.125000</td>\n",
       "      <td>150.359375</td>\n",
       "      <td>131.953125</td>\n",
       "      <td>123.070312</td>\n",
       "      <td>115.691406</td>\n",
       "      <td>106.757812</td>\n",
       "    </tr>\n",
       "    <tr>\n",
       "      <th>2017-12-03 17:07:00-06:00</th>\n",
       "      <td>164.093750</td>\n",
       "      <td>150.296875</td>\n",
       "      <td>131.921875</td>\n",
       "      <td>123.054688</td>\n",
       "      <td>115.683594</td>\n",
       "      <td>106.757812</td>\n",
       "    </tr>\n",
       "    <tr>\n",
       "      <th>2017-12-03 17:08:00-06:00</th>\n",
       "      <td>164.156250</td>\n",
       "      <td>150.359375</td>\n",
       "      <td>131.945312</td>\n",
       "      <td>123.070312</td>\n",
       "      <td>115.691406</td>\n",
       "      <td>106.757812</td>\n",
       "    </tr>\n",
       "    <tr>\n",
       "      <th>2017-12-03 17:09:00-06:00</th>\n",
       "      <td>164.062500</td>\n",
       "      <td>150.296875</td>\n",
       "      <td>131.921875</td>\n",
       "      <td>123.070312</td>\n",
       "      <td>115.691406</td>\n",
       "      <td>106.757812</td>\n",
       "    </tr>\n",
       "  </tbody>\n",
       "</table>\n",
       "</div>"
      ],
      "text/plain": [
       "                                   UB          ZB          TN          ZN  \\\n",
       "timestamp                                                                   \n",
       "2017-12-01 15:50:00-06:00  165.531250  151.296875  132.562500  123.492188   \n",
       "2017-12-01 15:51:00-06:00  165.515625  151.265625  132.562500  123.492188   \n",
       "2017-12-01 15:52:00-06:00  165.531250  151.296875  132.562500  123.507812   \n",
       "2017-12-01 15:53:00-06:00  165.531250  151.296875  132.562500  123.507812   \n",
       "2017-12-01 15:54:00-06:00  165.468750  151.265625  132.562500  123.492188   \n",
       "2017-12-01 15:55:00-06:00  165.468750  151.265625  132.546875  123.492188   \n",
       "2017-12-01 15:56:00-06:00  165.406250  151.234375  132.562500  123.492188   \n",
       "2017-12-01 15:57:00-06:00  165.453125  151.234375  132.562500  123.492188   \n",
       "2017-12-01 15:58:00-06:00  165.437500  151.265625  132.562500  123.492188   \n",
       "2017-12-01 15:59:00-06:00  165.437500  151.265625  132.562500  123.492188   \n",
       "2017-12-03 17:00:00-06:00  164.671875  150.593750  132.289062  123.062500   \n",
       "2017-12-03 17:01:00-06:00  164.109375  150.390625  131.992188  123.085938   \n",
       "2017-12-03 17:02:00-06:00  164.015625  150.328125  131.921875  123.054688   \n",
       "2017-12-03 17:03:00-06:00  164.093750  150.328125  131.937500  123.070312   \n",
       "2017-12-03 17:04:00-06:00  164.125000  150.328125  131.937500  123.070312   \n",
       "2017-12-03 17:05:00-06:00  164.171875  150.359375  131.937500  123.070312   \n",
       "2017-12-03 17:06:00-06:00  164.125000  150.359375  131.953125  123.070312   \n",
       "2017-12-03 17:07:00-06:00  164.093750  150.296875  131.921875  123.054688   \n",
       "2017-12-03 17:08:00-06:00  164.156250  150.359375  131.945312  123.070312   \n",
       "2017-12-03 17:09:00-06:00  164.062500  150.296875  131.921875  123.070312   \n",
       "\n",
       "                                   ZF          ZT  \n",
       "timestamp                                          \n",
       "2017-12-01 15:50:00-06:00  115.933594  106.828125  \n",
       "2017-12-01 15:51:00-06:00  115.933594  106.828125  \n",
       "2017-12-01 15:52:00-06:00  115.933594  106.828125  \n",
       "2017-12-01 15:53:00-06:00  115.933594  106.828125  \n",
       "2017-12-01 15:54:00-06:00  115.933594  106.828125  \n",
       "2017-12-01 15:55:00-06:00  115.933594  106.828125  \n",
       "2017-12-01 15:56:00-06:00  115.925781  106.828125  \n",
       "2017-12-01 15:57:00-06:00  115.933594  106.828125  \n",
       "2017-12-01 15:58:00-06:00  115.933594  106.828125  \n",
       "2017-12-01 15:59:00-06:00  115.941406  106.828125  \n",
       "2017-12-03 17:00:00-06:00  115.710938  106.796875  \n",
       "2017-12-03 17:01:00-06:00  115.695312  106.765625  \n",
       "2017-12-03 17:02:00-06:00  115.699219  106.761719  \n",
       "2017-12-03 17:03:00-06:00  115.707031  106.757812  \n",
       "2017-12-03 17:04:00-06:00  115.707031  106.765625  \n",
       "2017-12-03 17:05:00-06:00  115.699219  106.757812  \n",
       "2017-12-03 17:06:00-06:00  115.691406  106.757812  \n",
       "2017-12-03 17:07:00-06:00  115.683594  106.757812  \n",
       "2017-12-03 17:08:00-06:00  115.691406  106.757812  \n",
       "2017-12-03 17:09:00-06:00  115.691406  106.757812  "
      ]
     },
     "execution_count": 4,
     "metadata": {},
     "output_type": "execute_result"
    }
   ],
   "source": [
    "train.iloc[1370:1390]"
   ]
  },
  {
   "cell_type": "code",
   "execution_count": 5,
   "metadata": {},
   "outputs": [],
   "source": [
    "train[bonds]=train[bonds]*np.array(point_values)"
   ]
  },
  {
   "cell_type": "code",
   "execution_count": 6,
   "metadata": {},
   "outputs": [],
   "source": [
    "from sklearn import linear_model"
   ]
  },
  {
   "cell_type": "code",
   "execution_count": 16,
   "metadata": {},
   "outputs": [
    {
     "data": {
      "text/plain": [
       "LinearRegression(copy_X=True, fit_intercept=True, n_jobs=1, normalize=False)"
      ]
     },
     "execution_count": 16,
     "metadata": {},
     "output_type": "execute_result"
    }
   ],
   "source": [
    "reg=linear_model.LinearRegression()\n",
    "reg.fit(train[['UB','ZB','TN','ZN','ZF']].iloc[:20*1380],train['ZT'].iloc[:20*1380])"
   ]
  },
  {
   "cell_type": "code",
   "execution_count": 17,
   "metadata": {},
   "outputs": [
    {
     "data": {
      "text/plain": [
       "120500.48477445773"
      ]
     },
     "execution_count": 17,
     "metadata": {},
     "output_type": "execute_result"
    }
   ],
   "source": [
    "reg.intercept_"
   ]
  },
  {
   "cell_type": "code",
   "execution_count": 18,
   "metadata": {},
   "outputs": [
    {
     "data": {
      "text/plain": [
       "{'fit_intercept': True,\n",
       " 'normalize': False,\n",
       " 'copy_X': True,\n",
       " 'n_jobs': 1,\n",
       " 'coef_': array([-0.03053976,  0.07289506, -0.31213368,  0.17342202,  0.92402161]),\n",
       " '_residues': 8382368.464803021,\n",
       " 'rank_': 5,\n",
       " 'singular_': array([313956.23995571,  43169.42770394,   8693.85475305,   4877.65607726,\n",
       "          1821.89733832]),\n",
       " 'intercept_': 120500.48477445773}"
      ]
     },
     "execution_count": 18,
     "metadata": {},
     "output_type": "execute_result"
    }
   ],
   "source": [
    "reg.__dict__"
   ]
  },
  {
   "cell_type": "code",
   "execution_count": 19,
   "metadata": {},
   "outputs": [
    {
     "data": {
      "text/plain": [
       "array([-0.03053976,  0.07289506, -0.31213368,  0.17342202,  0.92402161])"
      ]
     },
     "execution_count": 19,
     "metadata": {},
     "output_type": "execute_result"
    }
   ],
   "source": [
    "reg.coef_"
   ]
  },
  {
   "cell_type": "code",
   "execution_count": 20,
   "metadata": {},
   "outputs": [],
   "source": [
    "from sklearn.feature_selection import f_regression"
   ]
  },
  {
   "cell_type": "code",
   "execution_count": 21,
   "metadata": {},
   "outputs": [],
   "source": [
    "reg_1=f_regression(train[['UB','ZB','TN','ZN','ZF']].iloc[0:20*1380],train['ZT'].iloc[0:20*1380])"
   ]
  },
  {
   "cell_type": "code",
   "execution_count": 22,
   "metadata": {},
   "outputs": [
    {
     "data": {
      "text/plain": [
       "(array([ 12780.58917273,  24097.28374541,  40222.02308617,  83544.5278842 ,\n",
       "        265027.19797259]), array([0., 0., 0., 0., 0.]))"
      ]
     },
     "execution_count": 22,
     "metadata": {},
     "output_type": "execute_result"
    }
   ],
   "source": [
    "reg_1"
   ]
  },
  {
   "cell_type": "code",
   "execution_count": 32,
   "metadata": {},
   "outputs": [
    {
     "data": {
      "text/plain": [
       "(array([ 12780.58917273,  24097.28374541,  40222.02308617,  83544.5278842 ,\n",
       "        265027.19797259]), array([0., 0., 0., 0., 0.]))"
      ]
     },
     "metadata": {},
     "output_type": "display_data"
    }
   ],
   "source": [
    "display(reg_1)"
   ]
  },
  {
   "cell_type": "code",
   "execution_count": 23,
   "metadata": {},
   "outputs": [
    {
     "data": {
      "text/plain": [
       "numpy.ndarray"
      ]
     },
     "execution_count": 23,
     "metadata": {},
     "output_type": "execute_result"
    }
   ],
   "source": [
    "type(reg.coef_)"
   ]
  },
  {
   "cell_type": "code",
   "execution_count": 24,
   "metadata": {},
   "outputs": [],
   "source": [
    "coint_vec=np.append(-reg.coef_,np.array([1]))"
   ]
  },
  {
   "cell_type": "code",
   "execution_count": 25,
   "metadata": {},
   "outputs": [
    {
     "data": {
      "text/plain": [
       "array([ 0.03053976, -0.07289506,  0.31213368, -0.17342202, -0.92402161,\n",
       "        1.        ])"
      ]
     },
     "execution_count": 25,
     "metadata": {},
     "output_type": "execute_result"
    }
   ],
   "source": [
    "coint_vec"
   ]
  },
  {
   "cell_type": "code",
   "execution_count": 26,
   "metadata": {},
   "outputs": [],
   "source": [
    "portfolio = (train*coint_vec).sum(axis=1)"
   ]
  },
  {
   "cell_type": "code",
   "execution_count": 27,
   "metadata": {},
   "outputs": [],
   "source": [
    "pmean = portfolio[:1380*20].mean()\n",
    "pstdev = portfolio[:1380*20].std()"
   ]
  },
  {
   "cell_type": "code",
   "execution_count": 28,
   "metadata": {},
   "outputs": [
    {
     "data": {
      "text/plain": [
       "<matplotlib.lines.Line2D at 0x2725da84898>"
      ]
     },
     "execution_count": 28,
     "metadata": {},
     "output_type": "execute_result"
    },
    {
     "data": {
      "image/png": "[encoded data removed]",
      "text/plain": [
       "<Figure size 432x288 with 1 Axes>"
      ]
     },
     "metadata": {
      "needs_background": "light"
     },
     "output_type": "display_data"
    }
   ],
   "source": [
    "portfolio.plot()\n",
    "plt.axhline(pmean)\n",
    "plt.axhline(pmean+pstdev)\n",
    "plt.axhline(pmean-pstdev)"
   ]
  },
  {
   "cell_type": "code",
   "execution_count": 29,
   "metadata": {},
   "outputs": [
    {
     "data": {
      "text/plain": [
       "[<matplotlib.lines.Line2D at 0x2725c297240>]"
      ]
     },
     "execution_count": 29,
     "metadata": {},
     "output_type": "execute_result"
    },
    {
     "data": {
      "image/png": "[encoded data removed]",
      "text/plain": [
       "<Figure size 432x288 with 1 Axes>"
      ]
     },
     "metadata": {
      "needs_background": "light"
     },
     "output_type": "display_data"
    }
   ],
   "source": [
    "plt.plot(portfolio.diff().dropna())"
   ]
  },
  {
   "cell_type": "code",
   "execution_count": 30,
   "metadata": {},
   "outputs": [
    {
     "data": {
      "text/plain": [
       "<matplotlib.axes._subplots.AxesSubplot at 0x2725db362e8>"
      ]
     },
     "execution_count": 30,
     "metadata": {},
     "output_type": "execute_result"
    },
    {
     "data": {
      "image/png": "[encoded data removed]",
      "text/plain": [
       "<Figure size 432x288 with 1 Axes>"
      ]
     },
     "metadata": {
      "needs_background": "light"
     },
     "output_type": "display_data"
    }
   ],
   "source": [
    "train.plot()"
   ]
  },
  {
   "cell_type": "code",
   "execution_count": 31,
   "metadata": {},
   "outputs": [
    {
     "ename": "NameError",
     "evalue": "name 'fit' is not defined",
     "output_type": "error",
     "traceback": [
      "\u001b[1;31m---------------------------------------------------------------------------\u001b[0m",
      "\u001b[1;31mNameError\u001b[0m                                 Traceback (most recent call last)",
      "\u001b[1;32m<ipython-input-31-63040c2220eb>\u001b[0m in \u001b[0;36m<module>\u001b[1;34m()\u001b[0m\n\u001b[1;32m----> 1\u001b[1;33m \u001b[0mcoint_another\u001b[0m\u001b[1;33m=\u001b[0m\u001b[0mfit\u001b[0m\u001b[1;33m(\u001b[0m\u001b[0mtrain\u001b[0m\u001b[1;33m.\u001b[0m\u001b[0miloc\u001b[0m\u001b[1;33m[\u001b[0m\u001b[1;36m0\u001b[0m\u001b[1;33m:\u001b[0m\u001b[1;36m20\u001b[0m\u001b[1;33m*\u001b[0m\u001b[1;36m1380\u001b[0m\u001b[1;33m]\u001b[0m\u001b[1;33m)\u001b[0m\u001b[1;33m\u001b[0m\u001b[0m\n\u001b[0m",
      "\u001b[1;31mNameError\u001b[0m: name 'fit' is not defined"
     ]
    }
   ],
   "source": [
    "coint_another=fit(train.iloc[0:20*1380])"
   ]
  },
  {
   "cell_type": "code",
   "execution_count": 34,
   "metadata": {},
   "outputs": [
    {
     "data": {
      "text/html": [
       "<div>\n",
       "<style scoped>\n",
       "    .dataframe tbody tr th:only-of-type {\n",
       "        vertical-align: middle;\n",
       "    }\n",
       "\n",
       "    .dataframe tbody tr th {\n",
       "        vertical-align: top;\n",
       "    }\n",
       "\n",
       "    .dataframe thead th {\n",
       "        text-align: right;\n",
       "    }\n",
       "</style>\n",
       "<table border=\"1\" class=\"dataframe\">\n",
       "  <thead>\n",
       "    <tr style=\"text-align: right;\">\n",
       "      <th></th>\n",
       "      <th>UB</th>\n",
       "      <th>ZB</th>\n",
       "      <th>TN</th>\n",
       "      <th>ZN</th>\n",
       "      <th>ZF</th>\n",
       "      <th>ZT</th>\n",
       "    </tr>\n",
       "    <tr>\n",
       "      <th>timestamp</th>\n",
       "      <th></th>\n",
       "      <th></th>\n",
       "      <th></th>\n",
       "      <th></th>\n",
       "      <th></th>\n",
       "      <th></th>\n",
       "    </tr>\n",
       "  </thead>\n",
       "  <tbody>\n",
       "    <tr>\n",
       "      <th>2017-11-30 17:00:00-06:00</th>\n",
       "      <td>163406.250</td>\n",
       "      <td>149921.875</td>\n",
       "      <td>132000.0000</td>\n",
       "      <td>123179.6875</td>\n",
       "      <td>115847.65625</td>\n",
       "      <td>213640.6250</td>\n",
       "    </tr>\n",
       "    <tr>\n",
       "      <th>2017-11-30 17:01:00-06:00</th>\n",
       "      <td>163375.000</td>\n",
       "      <td>149921.875</td>\n",
       "      <td>132000.0000</td>\n",
       "      <td>123179.6875</td>\n",
       "      <td>115839.84375</td>\n",
       "      <td>213640.6250</td>\n",
       "    </tr>\n",
       "    <tr>\n",
       "      <th>2017-11-30 17:02:00-06:00</th>\n",
       "      <td>163406.250</td>\n",
       "      <td>149921.875</td>\n",
       "      <td>132000.0000</td>\n",
       "      <td>123179.6875</td>\n",
       "      <td>115839.84375</td>\n",
       "      <td>213625.0000</td>\n",
       "    </tr>\n",
       "    <tr>\n",
       "      <th>2017-11-30 17:03:00-06:00</th>\n",
       "      <td>163406.250</td>\n",
       "      <td>149921.875</td>\n",
       "      <td>132000.0000</td>\n",
       "      <td>123179.6875</td>\n",
       "      <td>115839.84375</td>\n",
       "      <td>213625.0000</td>\n",
       "    </tr>\n",
       "    <tr>\n",
       "      <th>2017-11-30 17:04:00-06:00</th>\n",
       "      <td>163406.250</td>\n",
       "      <td>149921.875</td>\n",
       "      <td>132000.0000</td>\n",
       "      <td>123179.6875</td>\n",
       "      <td>115839.84375</td>\n",
       "      <td>213625.0000</td>\n",
       "    </tr>\n",
       "    <tr>\n",
       "      <th>2017-11-30 17:05:00-06:00</th>\n",
       "      <td>163406.250</td>\n",
       "      <td>149921.875</td>\n",
       "      <td>132000.0000</td>\n",
       "      <td>123179.6875</td>\n",
       "      <td>115839.84375</td>\n",
       "      <td>213625.0000</td>\n",
       "    </tr>\n",
       "    <tr>\n",
       "      <th>2017-11-30 17:06:00-06:00</th>\n",
       "      <td>163406.250</td>\n",
       "      <td>149921.875</td>\n",
       "      <td>132000.0000</td>\n",
       "      <td>123179.6875</td>\n",
       "      <td>115839.84375</td>\n",
       "      <td>213625.0000</td>\n",
       "    </tr>\n",
       "    <tr>\n",
       "      <th>2017-11-30 17:07:00-06:00</th>\n",
       "      <td>163406.250</td>\n",
       "      <td>149921.875</td>\n",
       "      <td>132000.0000</td>\n",
       "      <td>123179.6875</td>\n",
       "      <td>115832.03125</td>\n",
       "      <td>213625.0000</td>\n",
       "    </tr>\n",
       "    <tr>\n",
       "      <th>2017-11-30 17:08:00-06:00</th>\n",
       "      <td>163375.000</td>\n",
       "      <td>149890.625</td>\n",
       "      <td>131984.3750</td>\n",
       "      <td>123164.0625</td>\n",
       "      <td>115832.03125</td>\n",
       "      <td>213625.0000</td>\n",
       "    </tr>\n",
       "    <tr>\n",
       "      <th>2017-11-30 17:09:00-06:00</th>\n",
       "      <td>163375.000</td>\n",
       "      <td>149890.625</td>\n",
       "      <td>131984.3750</td>\n",
       "      <td>123164.0625</td>\n",
       "      <td>115832.03125</td>\n",
       "      <td>213625.0000</td>\n",
       "    </tr>\n",
       "    <tr>\n",
       "      <th>2017-11-30 17:10:00-06:00</th>\n",
       "      <td>163375.000</td>\n",
       "      <td>149890.625</td>\n",
       "      <td>131984.3750</td>\n",
       "      <td>123164.0625</td>\n",
       "      <td>115832.03125</td>\n",
       "      <td>213625.0000</td>\n",
       "    </tr>\n",
       "    <tr>\n",
       "      <th>2017-11-30 17:11:00-06:00</th>\n",
       "      <td>163375.000</td>\n",
       "      <td>149890.625</td>\n",
       "      <td>131984.3750</td>\n",
       "      <td>123164.0625</td>\n",
       "      <td>115832.03125</td>\n",
       "      <td>213625.0000</td>\n",
       "    </tr>\n",
       "    <tr>\n",
       "      <th>2017-11-30 17:12:00-06:00</th>\n",
       "      <td>163375.000</td>\n",
       "      <td>149890.625</td>\n",
       "      <td>131984.3750</td>\n",
       "      <td>123179.6875</td>\n",
       "      <td>115839.84375</td>\n",
       "      <td>213625.0000</td>\n",
       "    </tr>\n",
       "    <tr>\n",
       "      <th>2017-11-30 17:13:00-06:00</th>\n",
       "      <td>163375.000</td>\n",
       "      <td>149890.625</td>\n",
       "      <td>132000.0000</td>\n",
       "      <td>123179.6875</td>\n",
       "      <td>115839.84375</td>\n",
       "      <td>213625.0000</td>\n",
       "    </tr>\n",
       "    <tr>\n",
       "      <th>2017-11-30 17:14:00-06:00</th>\n",
       "      <td>163375.000</td>\n",
       "      <td>149890.625</td>\n",
       "      <td>132000.0000</td>\n",
       "      <td>123179.6875</td>\n",
       "      <td>115839.84375</td>\n",
       "      <td>213625.0000</td>\n",
       "    </tr>\n",
       "    <tr>\n",
       "      <th>2017-11-30 17:15:00-06:00</th>\n",
       "      <td>163375.000</td>\n",
       "      <td>149890.625</td>\n",
       "      <td>131992.1875</td>\n",
       "      <td>123179.6875</td>\n",
       "      <td>115839.84375</td>\n",
       "      <td>213625.0000</td>\n",
       "    </tr>\n",
       "    <tr>\n",
       "      <th>2017-11-30 17:16:00-06:00</th>\n",
       "      <td>163375.000</td>\n",
       "      <td>149890.625</td>\n",
       "      <td>132000.0000</td>\n",
       "      <td>123179.6875</td>\n",
       "      <td>115839.84375</td>\n",
       "      <td>213625.0000</td>\n",
       "    </tr>\n",
       "    <tr>\n",
       "      <th>2017-11-30 17:17:00-06:00</th>\n",
       "      <td>163375.000</td>\n",
       "      <td>149890.625</td>\n",
       "      <td>132000.0000</td>\n",
       "      <td>123179.6875</td>\n",
       "      <td>115839.84375</td>\n",
       "      <td>213625.0000</td>\n",
       "    </tr>\n",
       "    <tr>\n",
       "      <th>2017-11-30 17:18:00-06:00</th>\n",
       "      <td>163375.000</td>\n",
       "      <td>149890.625</td>\n",
       "      <td>131992.1875</td>\n",
       "      <td>123179.6875</td>\n",
       "      <td>115839.84375</td>\n",
       "      <td>213625.0000</td>\n",
       "    </tr>\n",
       "    <tr>\n",
       "      <th>2017-11-30 17:19:00-06:00</th>\n",
       "      <td>163375.000</td>\n",
       "      <td>149890.625</td>\n",
       "      <td>132000.0000</td>\n",
       "      <td>123179.6875</td>\n",
       "      <td>115839.84375</td>\n",
       "      <td>213625.0000</td>\n",
       "    </tr>\n",
       "    <tr>\n",
       "      <th>2017-11-30 17:20:00-06:00</th>\n",
       "      <td>163375.000</td>\n",
       "      <td>149890.625</td>\n",
       "      <td>132000.0000</td>\n",
       "      <td>123179.6875</td>\n",
       "      <td>115847.65625</td>\n",
       "      <td>213625.0000</td>\n",
       "    </tr>\n",
       "    <tr>\n",
       "      <th>2017-11-30 17:21:00-06:00</th>\n",
       "      <td>163375.000</td>\n",
       "      <td>149921.875</td>\n",
       "      <td>132000.0000</td>\n",
       "      <td>123179.6875</td>\n",
       "      <td>115839.84375</td>\n",
       "      <td>213625.0000</td>\n",
       "    </tr>\n",
       "    <tr>\n",
       "      <th>2017-11-30 17:22:00-06:00</th>\n",
       "      <td>163421.875</td>\n",
       "      <td>149921.875</td>\n",
       "      <td>132000.0000</td>\n",
       "      <td>123179.6875</td>\n",
       "      <td>115839.84375</td>\n",
       "      <td>213625.0000</td>\n",
       "    </tr>\n",
       "    <tr>\n",
       "      <th>2017-11-30 17:23:00-06:00</th>\n",
       "      <td>163437.500</td>\n",
       "      <td>149921.875</td>\n",
       "      <td>132000.0000</td>\n",
       "      <td>123179.6875</td>\n",
       "      <td>115839.84375</td>\n",
       "      <td>213640.6250</td>\n",
       "    </tr>\n",
       "    <tr>\n",
       "      <th>2017-11-30 17:24:00-06:00</th>\n",
       "      <td>163437.500</td>\n",
       "      <td>149921.875</td>\n",
       "      <td>132007.8125</td>\n",
       "      <td>123179.6875</td>\n",
       "      <td>115847.65625</td>\n",
       "      <td>213640.6250</td>\n",
       "    </tr>\n",
       "    <tr>\n",
       "      <th>2017-11-30 17:25:00-06:00</th>\n",
       "      <td>163468.750</td>\n",
       "      <td>149953.125</td>\n",
       "      <td>132015.6250</td>\n",
       "      <td>123179.6875</td>\n",
       "      <td>115847.65625</td>\n",
       "      <td>213640.6250</td>\n",
       "    </tr>\n",
       "    <tr>\n",
       "      <th>2017-11-30 17:26:00-06:00</th>\n",
       "      <td>163484.375</td>\n",
       "      <td>149953.125</td>\n",
       "      <td>132015.6250</td>\n",
       "      <td>123195.3125</td>\n",
       "      <td>115847.65625</td>\n",
       "      <td>213640.6250</td>\n",
       "    </tr>\n",
       "    <tr>\n",
       "      <th>2017-11-30 17:27:00-06:00</th>\n",
       "      <td>163500.000</td>\n",
       "      <td>149953.125</td>\n",
       "      <td>132015.6250</td>\n",
       "      <td>123195.3125</td>\n",
       "      <td>115847.65625</td>\n",
       "      <td>213640.6250</td>\n",
       "    </tr>\n",
       "    <tr>\n",
       "      <th>2017-11-30 17:28:00-06:00</th>\n",
       "      <td>163500.000</td>\n",
       "      <td>149953.125</td>\n",
       "      <td>132031.2500</td>\n",
       "      <td>123195.3125</td>\n",
       "      <td>115847.65625</td>\n",
       "      <td>213640.6250</td>\n",
       "    </tr>\n",
       "    <tr>\n",
       "      <th>2017-11-30 17:29:00-06:00</th>\n",
       "      <td>163531.250</td>\n",
       "      <td>149984.375</td>\n",
       "      <td>132031.2500</td>\n",
       "      <td>123195.3125</td>\n",
       "      <td>115847.65625</td>\n",
       "      <td>213640.6250</td>\n",
       "    </tr>\n",
       "    <tr>\n",
       "      <th>...</th>\n",
       "      <td>...</td>\n",
       "      <td>...</td>\n",
       "      <td>...</td>\n",
       "      <td>...</td>\n",
       "      <td>...</td>\n",
       "      <td>...</td>\n",
       "    </tr>\n",
       "    <tr>\n",
       "      <th>2018-08-31 15:30:00-05:00</th>\n",
       "      <td>158703.125</td>\n",
       "      <td>144859.375</td>\n",
       "      <td>128250.0000</td>\n",
       "      <td>120335.9375</td>\n",
       "      <td>113589.84375</td>\n",
       "      <td>211640.6250</td>\n",
       "    </tr>\n",
       "    <tr>\n",
       "      <th>2018-08-31 15:31:00-05:00</th>\n",
       "      <td>158703.125</td>\n",
       "      <td>144859.375</td>\n",
       "      <td>128242.1875</td>\n",
       "      <td>120335.9375</td>\n",
       "      <td>113589.84375</td>\n",
       "      <td>211640.6250</td>\n",
       "    </tr>\n",
       "    <tr>\n",
       "      <th>2018-08-31 15:32:00-05:00</th>\n",
       "      <td>158703.125</td>\n",
       "      <td>144859.375</td>\n",
       "      <td>128242.1875</td>\n",
       "      <td>120335.9375</td>\n",
       "      <td>113585.93750</td>\n",
       "      <td>211640.6250</td>\n",
       "    </tr>\n",
       "    <tr>\n",
       "      <th>2018-08-31 15:33:00-05:00</th>\n",
       "      <td>158703.125</td>\n",
       "      <td>144859.375</td>\n",
       "      <td>128242.1875</td>\n",
       "      <td>120335.9375</td>\n",
       "      <td>113585.93750</td>\n",
       "      <td>211640.6250</td>\n",
       "    </tr>\n",
       "    <tr>\n",
       "      <th>2018-08-31 15:34:00-05:00</th>\n",
       "      <td>158703.125</td>\n",
       "      <td>144859.375</td>\n",
       "      <td>128242.1875</td>\n",
       "      <td>120335.9375</td>\n",
       "      <td>113582.03125</td>\n",
       "      <td>211640.6250</td>\n",
       "    </tr>\n",
       "    <tr>\n",
       "      <th>2018-08-31 15:35:00-05:00</th>\n",
       "      <td>158703.125</td>\n",
       "      <td>144859.375</td>\n",
       "      <td>128242.1875</td>\n",
       "      <td>120335.9375</td>\n",
       "      <td>113589.84375</td>\n",
       "      <td>211640.6250</td>\n",
       "    </tr>\n",
       "    <tr>\n",
       "      <th>2018-08-31 15:36:00-05:00</th>\n",
       "      <td>158703.125</td>\n",
       "      <td>144859.375</td>\n",
       "      <td>128242.1875</td>\n",
       "      <td>120335.9375</td>\n",
       "      <td>113589.84375</td>\n",
       "      <td>211640.6250</td>\n",
       "    </tr>\n",
       "    <tr>\n",
       "      <th>2018-08-31 15:37:00-05:00</th>\n",
       "      <td>158703.125</td>\n",
       "      <td>144859.375</td>\n",
       "      <td>128242.1875</td>\n",
       "      <td>120335.9375</td>\n",
       "      <td>113589.84375</td>\n",
       "      <td>211640.6250</td>\n",
       "    </tr>\n",
       "    <tr>\n",
       "      <th>2018-08-31 15:38:00-05:00</th>\n",
       "      <td>158703.125</td>\n",
       "      <td>144859.375</td>\n",
       "      <td>128257.8125</td>\n",
       "      <td>120335.9375</td>\n",
       "      <td>113589.84375</td>\n",
       "      <td>211640.6250</td>\n",
       "    </tr>\n",
       "    <tr>\n",
       "      <th>2018-08-31 15:39:00-05:00</th>\n",
       "      <td>158703.125</td>\n",
       "      <td>144859.375</td>\n",
       "      <td>128257.8125</td>\n",
       "      <td>120335.9375</td>\n",
       "      <td>113589.84375</td>\n",
       "      <td>211640.6250</td>\n",
       "    </tr>\n",
       "    <tr>\n",
       "      <th>2018-08-31 15:40:00-05:00</th>\n",
       "      <td>158703.125</td>\n",
       "      <td>144859.375</td>\n",
       "      <td>128257.8125</td>\n",
       "      <td>120335.9375</td>\n",
       "      <td>113589.84375</td>\n",
       "      <td>211640.6250</td>\n",
       "    </tr>\n",
       "    <tr>\n",
       "      <th>2018-08-31 15:41:00-05:00</th>\n",
       "      <td>158703.125</td>\n",
       "      <td>144859.375</td>\n",
       "      <td>128257.8125</td>\n",
       "      <td>120335.9375</td>\n",
       "      <td>113589.84375</td>\n",
       "      <td>211640.6250</td>\n",
       "    </tr>\n",
       "    <tr>\n",
       "      <th>2018-08-31 15:42:00-05:00</th>\n",
       "      <td>158734.375</td>\n",
       "      <td>144890.625</td>\n",
       "      <td>128273.4375</td>\n",
       "      <td>120351.5625</td>\n",
       "      <td>113589.84375</td>\n",
       "      <td>211640.6250</td>\n",
       "    </tr>\n",
       "    <tr>\n",
       "      <th>2018-08-31 15:43:00-05:00</th>\n",
       "      <td>158765.625</td>\n",
       "      <td>144890.625</td>\n",
       "      <td>128273.4375</td>\n",
       "      <td>120351.5625</td>\n",
       "      <td>113597.65625</td>\n",
       "      <td>211640.6250</td>\n",
       "    </tr>\n",
       "    <tr>\n",
       "      <th>2018-08-31 15:44:00-05:00</th>\n",
       "      <td>158734.375</td>\n",
       "      <td>144890.625</td>\n",
       "      <td>128273.4375</td>\n",
       "      <td>120351.5625</td>\n",
       "      <td>113593.75000</td>\n",
       "      <td>211640.6250</td>\n",
       "    </tr>\n",
       "    <tr>\n",
       "      <th>2018-08-31 15:45:00-05:00</th>\n",
       "      <td>158734.375</td>\n",
       "      <td>144890.625</td>\n",
       "      <td>128273.4375</td>\n",
       "      <td>120351.5625</td>\n",
       "      <td>113597.65625</td>\n",
       "      <td>211640.6250</td>\n",
       "    </tr>\n",
       "    <tr>\n",
       "      <th>2018-08-31 15:46:00-05:00</th>\n",
       "      <td>158734.375</td>\n",
       "      <td>144890.625</td>\n",
       "      <td>128273.4375</td>\n",
       "      <td>120351.5625</td>\n",
       "      <td>113589.84375</td>\n",
       "      <td>211640.6250</td>\n",
       "    </tr>\n",
       "    <tr>\n",
       "      <th>2018-08-31 15:47:00-05:00</th>\n",
       "      <td>158734.375</td>\n",
       "      <td>144890.625</td>\n",
       "      <td>128273.4375</td>\n",
       "      <td>120351.5625</td>\n",
       "      <td>113589.84375</td>\n",
       "      <td>211640.6250</td>\n",
       "    </tr>\n",
       "    <tr>\n",
       "      <th>2018-08-31 15:48:00-05:00</th>\n",
       "      <td>158734.375</td>\n",
       "      <td>144890.625</td>\n",
       "      <td>128273.4375</td>\n",
       "      <td>120351.5625</td>\n",
       "      <td>113593.75000</td>\n",
       "      <td>211640.6250</td>\n",
       "    </tr>\n",
       "    <tr>\n",
       "      <th>2018-08-31 15:49:00-05:00</th>\n",
       "      <td>158750.000</td>\n",
       "      <td>144890.625</td>\n",
       "      <td>128273.4375</td>\n",
       "      <td>120351.5625</td>\n",
       "      <td>113593.75000</td>\n",
       "      <td>211632.8125</td>\n",
       "    </tr>\n",
       "    <tr>\n",
       "      <th>2018-08-31 15:50:00-05:00</th>\n",
       "      <td>158734.375</td>\n",
       "      <td>144875.000</td>\n",
       "      <td>128265.6250</td>\n",
       "      <td>120351.5625</td>\n",
       "      <td>113589.84375</td>\n",
       "      <td>211632.8125</td>\n",
       "    </tr>\n",
       "    <tr>\n",
       "      <th>2018-08-31 15:51:00-05:00</th>\n",
       "      <td>158671.875</td>\n",
       "      <td>144843.750</td>\n",
       "      <td>128250.0000</td>\n",
       "      <td>120335.9375</td>\n",
       "      <td>113589.84375</td>\n",
       "      <td>211632.8125</td>\n",
       "    </tr>\n",
       "    <tr>\n",
       "      <th>2018-08-31 15:52:00-05:00</th>\n",
       "      <td>158703.125</td>\n",
       "      <td>144828.125</td>\n",
       "      <td>128250.0000</td>\n",
       "      <td>120335.9375</td>\n",
       "      <td>113589.84375</td>\n",
       "      <td>211632.8125</td>\n",
       "    </tr>\n",
       "    <tr>\n",
       "      <th>2018-08-31 15:53:00-05:00</th>\n",
       "      <td>158703.125</td>\n",
       "      <td>144828.125</td>\n",
       "      <td>128250.0000</td>\n",
       "      <td>120335.9375</td>\n",
       "      <td>113589.84375</td>\n",
       "      <td>211632.8125</td>\n",
       "    </tr>\n",
       "    <tr>\n",
       "      <th>2018-08-31 15:54:00-05:00</th>\n",
       "      <td>158671.875</td>\n",
       "      <td>144828.125</td>\n",
       "      <td>128250.0000</td>\n",
       "      <td>120335.9375</td>\n",
       "      <td>113589.84375</td>\n",
       "      <td>211632.8125</td>\n",
       "    </tr>\n",
       "    <tr>\n",
       "      <th>2018-08-31 15:55:00-05:00</th>\n",
       "      <td>158671.875</td>\n",
       "      <td>144828.125</td>\n",
       "      <td>128250.0000</td>\n",
       "      <td>120335.9375</td>\n",
       "      <td>113589.84375</td>\n",
       "      <td>211632.8125</td>\n",
       "    </tr>\n",
       "    <tr>\n",
       "      <th>2018-08-31 15:56:00-05:00</th>\n",
       "      <td>158703.125</td>\n",
       "      <td>144843.750</td>\n",
       "      <td>128242.1875</td>\n",
       "      <td>120335.9375</td>\n",
       "      <td>113589.84375</td>\n",
       "      <td>211632.8125</td>\n",
       "    </tr>\n",
       "    <tr>\n",
       "      <th>2018-08-31 15:57:00-05:00</th>\n",
       "      <td>158703.125</td>\n",
       "      <td>144843.750</td>\n",
       "      <td>128242.1875</td>\n",
       "      <td>120335.9375</td>\n",
       "      <td>113589.84375</td>\n",
       "      <td>211632.8125</td>\n",
       "    </tr>\n",
       "    <tr>\n",
       "      <th>2018-08-31 15:58:00-05:00</th>\n",
       "      <td>158687.500</td>\n",
       "      <td>144843.750</td>\n",
       "      <td>128250.0000</td>\n",
       "      <td>120335.9375</td>\n",
       "      <td>113589.84375</td>\n",
       "      <td>211632.8125</td>\n",
       "    </tr>\n",
       "    <tr>\n",
       "      <th>2018-08-31 15:59:00-05:00</th>\n",
       "      <td>158687.500</td>\n",
       "      <td>144828.125</td>\n",
       "      <td>128234.3750</td>\n",
       "      <td>120335.9375</td>\n",
       "      <td>113593.75000</td>\n",
       "      <td>211632.8125</td>\n",
       "    </tr>\n",
       "  </tbody>\n",
       "</table>\n",
       "<p>270480 rows × 6 columns</p>\n",
       "</div>"
      ],
      "text/plain": [
       "                                   UB          ZB           TN           ZN  \\\n",
       "timestamp                                                                     \n",
       "2017-11-30 17:00:00-06:00  163406.250  149921.875  132000.0000  123179.6875   \n",
       "2017-11-30 17:01:00-06:00  163375.000  149921.875  132000.0000  123179.6875   \n",
       "2017-11-30 17:02:00-06:00  163406.250  149921.875  132000.0000  123179.6875   \n",
       "2017-11-30 17:03:00-06:00  163406.250  149921.875  132000.0000  123179.6875   \n",
       "2017-11-30 17:04:00-06:00  163406.250  149921.875  132000.0000  123179.6875   \n",
       "2017-11-30 17:05:00-06:00  163406.250  149921.875  132000.0000  123179.6875   \n",
       "2017-11-30 17:06:00-06:00  163406.250  149921.875  132000.0000  123179.6875   \n",
       "2017-11-30 17:07:00-06:00  163406.250  149921.875  132000.0000  123179.6875   \n",
       "2017-11-30 17:08:00-06:00  163375.000  149890.625  131984.3750  123164.0625   \n",
       "2017-11-30 17:09:00-06:00  163375.000  149890.625  131984.3750  123164.0625   \n",
       "2017-11-30 17:10:00-06:00  163375.000  149890.625  131984.3750  123164.0625   \n",
       "2017-11-30 17:11:00-06:00  163375.000  149890.625  131984.3750  123164.0625   \n",
       "2017-11-30 17:12:00-06:00  163375.000  149890.625  131984.3750  123179.6875   \n",
       "2017-11-30 17:13:00-06:00  163375.000  149890.625  132000.0000  123179.6875   \n",
       "2017-11-30 17:14:00-06:00  163375.000  149890.625  132000.0000  123179.6875   \n",
       "2017-11-30 17:15:00-06:00  163375.000  149890.625  131992.1875  123179.6875   \n",
       "2017-11-30 17:16:00-06:00  163375.000  149890.625  132000.0000  123179.6875   \n",
       "2017-11-30 17:17:00-06:00  163375.000  149890.625  132000.0000  123179.6875   \n",
       "2017-11-30 17:18:00-06:00  163375.000  149890.625  131992.1875  123179.6875   \n",
       "2017-11-30 17:19:00-06:00  163375.000  149890.625  132000.0000  123179.6875   \n",
       "2017-11-30 17:20:00-06:00  163375.000  149890.625  132000.0000  123179.6875   \n",
       "2017-11-30 17:21:00-06:00  163375.000  149921.875  132000.0000  123179.6875   \n",
       "2017-11-30 17:22:00-06:00  163421.875  149921.875  132000.0000  123179.6875   \n",
       "2017-11-30 17:23:00-06:00  163437.500  149921.875  132000.0000  123179.6875   \n",
       "2017-11-30 17:24:00-06:00  163437.500  149921.875  132007.8125  123179.6875   \n",
       "2017-11-30 17:25:00-06:00  163468.750  149953.125  132015.6250  123179.6875   \n",
       "2017-11-30 17:26:00-06:00  163484.375  149953.125  132015.6250  123195.3125   \n",
       "2017-11-30 17:27:00-06:00  163500.000  149953.125  132015.6250  123195.3125   \n",
       "2017-11-30 17:28:00-06:00  163500.000  149953.125  132031.2500  123195.3125   \n",
       "2017-11-30 17:29:00-06:00  163531.250  149984.375  132031.2500  123195.3125   \n",
       "...                               ...         ...          ...          ...   \n",
       "2018-08-31 15:30:00-05:00  158703.125  144859.375  128250.0000  120335.9375   \n",
       "2018-08-31 15:31:00-05:00  158703.125  144859.375  128242.1875  120335.9375   \n",
       "2018-08-31 15:32:00-05:00  158703.125  144859.375  128242.1875  120335.9375   \n",
       "2018-08-31 15:33:00-05:00  158703.125  144859.375  128242.1875  120335.9375   \n",
       "2018-08-31 15:34:00-05:00  158703.125  144859.375  128242.1875  120335.9375   \n",
       "2018-08-31 15:35:00-05:00  158703.125  144859.375  128242.1875  120335.9375   \n",
       "2018-08-31 15:36:00-05:00  158703.125  144859.375  128242.1875  120335.9375   \n",
       "2018-08-31 15:37:00-05:00  158703.125  144859.375  128242.1875  120335.9375   \n",
       "2018-08-31 15:38:00-05:00  158703.125  144859.375  128257.8125  120335.9375   \n",
       "2018-08-31 15:39:00-05:00  158703.125  144859.375  128257.8125  120335.9375   \n",
       "2018-08-31 15:40:00-05:00  158703.125  144859.375  128257.8125  120335.9375   \n",
       "2018-08-31 15:41:00-05:00  158703.125  144859.375  128257.8125  120335.9375   \n",
       "2018-08-31 15:42:00-05:00  158734.375  144890.625  128273.4375  120351.5625   \n",
       "2018-08-31 15:43:00-05:00  158765.625  144890.625  128273.4375  120351.5625   \n",
       "2018-08-31 15:44:00-05:00  158734.375  144890.625  128273.4375  120351.5625   \n",
       "2018-08-31 15:45:00-05:00  158734.375  144890.625  128273.4375  120351.5625   \n",
       "2018-08-31 15:46:00-05:00  158734.375  144890.625  128273.4375  120351.5625   \n",
       "2018-08-31 15:47:00-05:00  158734.375  144890.625  128273.4375  120351.5625   \n",
       "2018-08-31 15:48:00-05:00  158734.375  144890.625  128273.4375  120351.5625   \n",
       "2018-08-31 15:49:00-05:00  158750.000  144890.625  128273.4375  120351.5625   \n",
       "2018-08-31 15:50:00-05:00  158734.375  144875.000  128265.6250  120351.5625   \n",
       "2018-08-31 15:51:00-05:00  158671.875  144843.750  128250.0000  120335.9375   \n",
       "2018-08-31 15:52:00-05:00  158703.125  144828.125  128250.0000  120335.9375   \n",
       "2018-08-31 15:53:00-05:00  158703.125  144828.125  128250.0000  120335.9375   \n",
       "2018-08-31 15:54:00-05:00  158671.875  144828.125  128250.0000  120335.9375   \n",
       "2018-08-31 15:55:00-05:00  158671.875  144828.125  128250.0000  120335.9375   \n",
       "2018-08-31 15:56:00-05:00  158703.125  144843.750  128242.1875  120335.9375   \n",
       "2018-08-31 15:57:00-05:00  158703.125  144843.750  128242.1875  120335.9375   \n",
       "2018-08-31 15:58:00-05:00  158687.500  144843.750  128250.0000  120335.9375   \n",
       "2018-08-31 15:59:00-05:00  158687.500  144828.125  128234.3750  120335.9375   \n",
       "\n",
       "                                     ZF           ZT  \n",
       "timestamp                                             \n",
       "2017-11-30 17:00:00-06:00  115847.65625  213640.6250  \n",
       "2017-11-30 17:01:00-06:00  115839.84375  213640.6250  \n",
       "2017-11-30 17:02:00-06:00  115839.84375  213625.0000  \n",
       "2017-11-30 17:03:00-06:00  115839.84375  213625.0000  \n",
       "2017-11-30 17:04:00-06:00  115839.84375  213625.0000  \n",
       "2017-11-30 17:05:00-06:00  115839.84375  213625.0000  \n",
       "2017-11-30 17:06:00-06:00  115839.84375  213625.0000  \n",
       "2017-11-30 17:07:00-06:00  115832.03125  213625.0000  \n",
       "2017-11-30 17:08:00-06:00  115832.03125  213625.0000  \n",
       "2017-11-30 17:09:00-06:00  115832.03125  213625.0000  \n",
       "2017-11-30 17:10:00-06:00  115832.03125  213625.0000  \n",
       "2017-11-30 17:11:00-06:00  115832.03125  213625.0000  \n",
       "2017-11-30 17:12:00-06:00  115839.84375  213625.0000  \n",
       "2017-11-30 17:13:00-06:00  115839.84375  213625.0000  \n",
       "2017-11-30 17:14:00-06:00  115839.84375  213625.0000  \n",
       "2017-11-30 17:15:00-06:00  115839.84375  213625.0000  \n",
       "2017-11-30 17:16:00-06:00  115839.84375  213625.0000  \n",
       "2017-11-30 17:17:00-06:00  115839.84375  213625.0000  \n",
       "2017-11-30 17:18:00-06:00  115839.84375  213625.0000  \n",
       "2017-11-30 17:19:00-06:00  115839.84375  213625.0000  \n",
       "2017-11-30 17:20:00-06:00  115847.65625  213625.0000  \n",
       "2017-11-30 17:21:00-06:00  115839.84375  213625.0000  \n",
       "2017-11-30 17:22:00-06:00  115839.84375  213625.0000  \n",
       "2017-11-30 17:23:00-06:00  115839.84375  213640.6250  \n",
       "2017-11-30 17:24:00-06:00  115847.65625  213640.6250  \n",
       "2017-11-30 17:25:00-06:00  115847.65625  213640.6250  \n",
       "2017-11-30 17:26:00-06:00  115847.65625  213640.6250  \n",
       "2017-11-30 17:27:00-06:00  115847.65625  213640.6250  \n",
       "2017-11-30 17:28:00-06:00  115847.65625  213640.6250  \n",
       "2017-11-30 17:29:00-06:00  115847.65625  213640.6250  \n",
       "...                                 ...          ...  \n",
       "2018-08-31 15:30:00-05:00  113589.84375  211640.6250  \n",
       "2018-08-31 15:31:00-05:00  113589.84375  211640.6250  \n",
       "2018-08-31 15:32:00-05:00  113585.93750  211640.6250  \n",
       "2018-08-31 15:33:00-05:00  113585.93750  211640.6250  \n",
       "2018-08-31 15:34:00-05:00  113582.03125  211640.6250  \n",
       "2018-08-31 15:35:00-05:00  113589.84375  211640.6250  \n",
       "2018-08-31 15:36:00-05:00  113589.84375  211640.6250  \n",
       "2018-08-31 15:37:00-05:00  113589.84375  211640.6250  \n",
       "2018-08-31 15:38:00-05:00  113589.84375  211640.6250  \n",
       "2018-08-31 15:39:00-05:00  113589.84375  211640.6250  \n",
       "2018-08-31 15:40:00-05:00  113589.84375  211640.6250  \n",
       "2018-08-31 15:41:00-05:00  113589.84375  211640.6250  \n",
       "2018-08-31 15:42:00-05:00  113589.84375  211640.6250  \n",
       "2018-08-31 15:43:00-05:00  113597.65625  211640.6250  \n",
       "2018-08-31 15:44:00-05:00  113593.75000  211640.6250  \n",
       "2018-08-31 15:45:00-05:00  113597.65625  211640.6250  \n",
       "2018-08-31 15:46:00-05:00  113589.84375  211640.6250  \n",
       "2018-08-31 15:47:00-05:00  113589.84375  211640.6250  \n",
       "2018-08-31 15:48:00-05:00  113593.75000  211640.6250  \n",
       "2018-08-31 15:49:00-05:00  113593.75000  211632.8125  \n",
       "2018-08-31 15:50:00-05:00  113589.84375  211632.8125  \n",
       "2018-08-31 15:51:00-05:00  113589.84375  211632.8125  \n",
       "2018-08-31 15:52:00-05:00  113589.84375  211632.8125  \n",
       "2018-08-31 15:53:00-05:00  113589.84375  211632.8125  \n",
       "2018-08-31 15:54:00-05:00  113589.84375  211632.8125  \n",
       "2018-08-31 15:55:00-05:00  113589.84375  211632.8125  \n",
       "2018-08-31 15:56:00-05:00  113589.84375  211632.8125  \n",
       "2018-08-31 15:57:00-05:00  113589.84375  211632.8125  \n",
       "2018-08-31 15:58:00-05:00  113589.84375  211632.8125  \n",
       "2018-08-31 15:59:00-05:00  113593.75000  211632.8125  \n",
       "\n",
       "[270480 rows x 6 columns]"
      ]
     },
     "execution_count": 34,
     "metadata": {},
     "output_type": "execute_result"
    }
   ],
   "source": [
    "train"
   ]
  },
  {
   "cell_type": "code",
   "execution_count": 33,
   "metadata": {},
   "outputs": [],
   "source": [
    "def fit(data):\n",
    "    x = data.values\n",
    "    x_centered = x - np.mean(x, axis=0)\n",
    "    johansen = Johansen(x_centered, model=3, significance_level=0)\n",
    "    eigenvectors, r = johansen.johansen()\n",
    "    #print('rejected r values are: {}'.format(r))\n",
    "    vec = eigenvectors[:, 0]\n",
    "    #vec_max = np.max(np.abs(vec))\n",
    "    vec_min = min(np.abs(vec))\n",
    "    vec = vec / vec_min\n",
    "    #print('The first cointegrating relation: {}'.format(vec))\n",
    "    return vec    \n"
   ]
  },
  {
   "cell_type": "code",
   "execution_count": 35,
   "metadata": {},
   "outputs": [],
   "source": [
    "coint_another=fit(train.iloc[0:20*1380])"
   ]
  },
  {
   "cell_type": "code",
   "execution_count": 36,
   "metadata": {},
   "outputs": [
    {
     "data": {
      "text/plain": [
       "array([ -1.07675621,   1.59653967,   5.99281051, -13.01482361,\n",
       "         7.55255591,  -1.        ])"
      ]
     },
     "execution_count": 36,
     "metadata": {},
     "output_type": "execute_result"
    }
   ],
   "source": [
    "coint_another"
   ]
  },
  {
   "cell_type": "code",
   "execution_count": 37,
   "metadata": {},
   "outputs": [],
   "source": [
    "portfolio_another=(train*coint_another).sum(axis=1)"
   ]
  },
  {
   "cell_type": "code",
   "execution_count": 38,
   "metadata": {},
   "outputs": [],
   "source": [
    "p_mean = portfolio_another[:1380*20].mean()\n",
    "p_stdev = portfolio_another[:1380*20].std()"
   ]
  },
  {
   "cell_type": "code",
   "execution_count": 39,
   "metadata": {},
   "outputs": [
    {
     "data": {
      "text/plain": [
       "<matplotlib.lines.Line2D at 0x272693e5400>"
      ]
     },
     "execution_count": 39,
     "metadata": {},
     "output_type": "execute_result"
    },
    {
     "data": {
      "image/png": "[encoded data removed]",
      "text/plain": [
       "<Figure size 432x288 with 1 Axes>"
      ]
     },
     "metadata": {
      "needs_background": "light"
     },
     "output_type": "display_data"
    }
   ],
   "source": [
    "portfolio_another.plot()\n",
    "plt.axhline(p_mean)\n",
    "plt.axhline(p_mean+p_stdev)\n",
    "plt.axhline(p_mean-p_stdev)"
   ]
  },
  {
   "cell_type": "code",
   "execution_count": 40,
   "metadata": {},
   "outputs": [
    {
     "data": {
      "text/plain": [
       "<matplotlib.axes._subplots.AxesSubplot at 0x25ad0c25ac8>"
      ]
     },
     "execution_count": 40,
     "metadata": {},
     "output_type": "execute_result"
    },
    {
     "data": {
      "image/png": "[encoded data removed]",
      "text/plain": [
       "<Figure size 432x288 with 1 Axes>"
      ]
     },
     "metadata": {
      "needs_background": "light"
     },
     "output_type": "display_data"
    }
   ],
   "source": [
    "portfolio_another.diff().plot()"
   ]
  },
  {
   "cell_type": "code",
   "execution_count": null,
   "metadata": {},
   "outputs": [],
   "source": [
    "adfuller(portfolio_another)"
   ]
  },
  {
   "cell_type": "code",
   "execution_count": 40,
   "metadata": {},
   "outputs": [],
   "source": [
    "from statsmodels.tsa.stattools import adfuller"
   ]
  },
  {
   "cell_type": "code",
   "execution_count": null,
   "metadata": {},
   "outputs": [],
   "source": [
    "adfuller(portfolio)"
   ]
  }
 ],
 "metadata": {
  "kernelspec": {
   "display_name": "Python 3",
   "language": "python",
   "name": "python3"
  },
  "language_info": {
   "codemirror_mode": {
    "name": "ipython",
    "version": 3
   },
   "file_extension": ".py",
   "mimetype": "text/x-python",
   "name": "python",
   "nbconvert_exporter": "python",
   "pygments_lexer": "ipython3",
   "version": "3.6.5"
  }
 },
 "nbformat": 4,
 "nbformat_minor": 2
}
